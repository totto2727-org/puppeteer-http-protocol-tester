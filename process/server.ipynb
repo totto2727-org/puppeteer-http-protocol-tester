{
 "cells": [
  {
   "cell_type": "code",
   "execution_count": 80,
   "metadata": {},
   "outputs": [],
   "source": [
    "import pandas as pd\n",
    "import matplotlib\n",
    "import matplotlib as mpl\n",
    "import matplotlib.pyplot as plt\n",
    "import matplotlib.font_manager\n",
    "\n",
    "font = {\"family\": \"YuGothic\"}\n",
    "matplotlib.rc(\"font\", **font)"
   ]
  },
  {
   "cell_type": "code",
   "execution_count": 81,
   "metadata": {},
   "outputs": [
    {
     "name": "stdout",
     "output_type": "stream",
     "text": [
      "1894 2266\n"
     ]
    },
    {
     "data": {
      "text/plain": [
       "Time         int64\n",
       "UID          int64\n",
       "PID          int64\n",
       "%usr       float64\n",
       "%system    float64\n",
       "%guest     float64\n",
       "%wait      float64\n",
       "%CPU       float64\n",
       "CPU          int64\n",
       "dtype: object"
      ]
     },
     "execution_count": 81,
     "metadata": {},
     "output_type": "execute_result"
    }
   ],
   "source": [
    "client60_single = pd.read_csv(\"../log-single-client60/nginx-minis2.csv\")\n",
    "client60_single = client60_single.select_dtypes(include=[\"int\", \"float\"])\n",
    "client60_single_h2_start = client60_single[\"Time\"].min() + 30\n",
    "client60_single_h2_end = 1675605220 - 30\n",
    "client60_single_h3_start = 1675605833 + 30\n",
    "client60_single_h3_end = client60_single[\"Time\"].max() - 30\n",
    "print(\n",
    "    client60_single_h2_end - client60_single_h2_start,\n",
    "    client60_single_h3_end - client60_single_h3_start,\n",
    ")\n",
    "client60_single.dtypes\n"
   ]
  },
  {
   "cell_type": "code",
   "execution_count": 82,
   "metadata": {},
   "outputs": [
    {
     "name": "stdout",
     "output_type": "stream",
     "text": [
      "284 290\n"
     ]
    },
    {
     "data": {
      "text/plain": [
       "Time         int64\n",
       "UID          int64\n",
       "PID          int64\n",
       "%usr       float64\n",
       "%system    float64\n",
       "%guest     float64\n",
       "%wait      float64\n",
       "%CPU       float64\n",
       "CPU          int64\n",
       "dtype: object"
      ]
     },
     "execution_count": 82,
     "metadata": {},
     "output_type": "execute_result"
    }
   ],
   "source": [
    "client60_simple = pd.read_csv(\"../log-simple-client60/nginx-minis2.csv\")\n",
    "client60_simple = client60_simple.select_dtypes(include=[\"int\", \"float\"])\n",
    "client60_simple_h2_start = client60_simple[\"Time\"].min() + 30\n",
    "client60_simple_h2_end = 1675601408 - 30\n",
    "client60_simple_h3_start = 1675602012 + 30\n",
    "client60_simple_h3_end = client60_simple[\"Time\"].max() - 30\n",
    "print(\n",
    "    client60_simple_h2_end - client60_simple_h2_start,\n",
    "    client60_simple_h3_end - client60_simple_h3_start,\n",
    ")\n",
    "client60_simple.dtypes\n"
   ]
  },
  {
   "cell_type": "code",
   "execution_count": 83,
   "metadata": {},
   "outputs": [],
   "source": [
    "def cpu_performance(df: pd.DataFrame, start: int, end: int):\n",
    "    df_groupby = df[(start <= df[\"Time\"]) & (df[\"Time\"] <= end)].groupby(\"Time\")\n",
    "    df_groupby = df_groupby.sum()\n",
    "    return df_groupby\n"
   ]
  },
  {
   "cell_type": "code",
   "execution_count": 84,
   "metadata": {},
   "outputs": [
    {
     "data": {
      "text/html": [
       "<div>\n",
       "<style scoped>\n",
       "    .dataframe tbody tr th:only-of-type {\n",
       "        vertical-align: middle;\n",
       "    }\n",
       "\n",
       "    .dataframe tbody tr th {\n",
       "        vertical-align: top;\n",
       "    }\n",
       "\n",
       "    .dataframe thead th {\n",
       "        text-align: right;\n",
       "    }\n",
       "</style>\n",
       "<table border=\"1\" class=\"dataframe\">\n",
       "  <thead>\n",
       "    <tr style=\"text-align: right;\">\n",
       "      <th></th>\n",
       "      <th>HTTP/2\\n/single.html</th>\n",
       "      <th>HTTP/3\\n/single.html</th>\n",
       "    </tr>\n",
       "  </thead>\n",
       "  <tbody>\n",
       "    <tr>\n",
       "      <th>0</th>\n",
       "      <td>10.0</td>\n",
       "      <td>61.0</td>\n",
       "    </tr>\n",
       "    <tr>\n",
       "      <th>1</th>\n",
       "      <td>31.0</td>\n",
       "      <td>53.0</td>\n",
       "    </tr>\n",
       "    <tr>\n",
       "      <th>2</th>\n",
       "      <td>8.0</td>\n",
       "      <td>59.0</td>\n",
       "    </tr>\n",
       "    <tr>\n",
       "      <th>3</th>\n",
       "      <td>14.0</td>\n",
       "      <td>58.0</td>\n",
       "    </tr>\n",
       "    <tr>\n",
       "      <th>4</th>\n",
       "      <td>18.0</td>\n",
       "      <td>68.0</td>\n",
       "    </tr>\n",
       "    <tr>\n",
       "      <th>...</th>\n",
       "      <td>...</td>\n",
       "      <td>...</td>\n",
       "    </tr>\n",
       "    <tr>\n",
       "      <th>1890</th>\n",
       "      <td>11.0</td>\n",
       "      <td>58.0</td>\n",
       "    </tr>\n",
       "    <tr>\n",
       "      <th>1891</th>\n",
       "      <td>13.0</td>\n",
       "      <td>54.0</td>\n",
       "    </tr>\n",
       "    <tr>\n",
       "      <th>1892</th>\n",
       "      <td>22.0</td>\n",
       "      <td>60.0</td>\n",
       "    </tr>\n",
       "    <tr>\n",
       "      <th>1893</th>\n",
       "      <td>17.0</td>\n",
       "      <td>55.0</td>\n",
       "    </tr>\n",
       "    <tr>\n",
       "      <th>1894</th>\n",
       "      <td>8.0</td>\n",
       "      <td>56.0</td>\n",
       "    </tr>\n",
       "  </tbody>\n",
       "</table>\n",
       "<p>1895 rows × 2 columns</p>\n",
       "</div>"
      ],
      "text/plain": [
       "      HTTP/2\\n/single.html  HTTP/3\\n/single.html\n",
       "0                     10.0                  61.0\n",
       "1                     31.0                  53.0\n",
       "2                      8.0                  59.0\n",
       "3                     14.0                  58.0\n",
       "4                     18.0                  68.0\n",
       "...                    ...                   ...\n",
       "1890                  11.0                  58.0\n",
       "1891                  13.0                  54.0\n",
       "1892                  22.0                  60.0\n",
       "1893                  17.0                  55.0\n",
       "1894                   8.0                  56.0\n",
       "\n",
       "[1895 rows x 2 columns]"
      ]
     },
     "execution_count": 84,
     "metadata": {},
     "output_type": "execute_result"
    }
   ],
   "source": [
    "client60_single_h2 = cpu_performance(client60_single, client60_single_h2_start, client60_single_h2_end)\n",
    "des_single_h2 = client60_single_h2[[r\"%usr\", r\"%system\", r\"%CPU\"]].describe()\n",
    "des_single_h2.to_csv(\"server-single-h2.csv\")\n",
    "client60_single_h3 = cpu_performance(client60_single, client60_single_h3_start, client60_single_h3_end)\n",
    "des_single_h3 = client60_single_h3[[r\"%usr\", r\"%system\", r\"%CPU\"]].describe()\n",
    "des_single_h3.to_csv(\"server-single-h3.csv\")\n",
    "result_single = pd.DataFrame()\n",
    "result_single[\"HTTP/2\\n/single.html\"] = client60_single_h2[r\"%CPU\"].reset_index(drop=True)\n",
    "result_single[\"HTTP/3\\n/single.html\"] = client60_single_h3[r\"%CPU\"].reset_index(drop=True)\n",
    "result_single.to_csv(\"server-describe.csv\", index=False)\n",
    "result_single"
   ]
  },
  {
   "cell_type": "code",
   "execution_count": 85,
   "metadata": {},
   "outputs": [
    {
     "data": {
      "text/html": [
       "<div>\n",
       "<style scoped>\n",
       "    .dataframe tbody tr th:only-of-type {\n",
       "        vertical-align: middle;\n",
       "    }\n",
       "\n",
       "    .dataframe tbody tr th {\n",
       "        vertical-align: top;\n",
       "    }\n",
       "\n",
       "    .dataframe thead th {\n",
       "        text-align: right;\n",
       "    }\n",
       "</style>\n",
       "<table border=\"1\" class=\"dataframe\">\n",
       "  <thead>\n",
       "    <tr style=\"text-align: right;\">\n",
       "      <th></th>\n",
       "      <th>HTTP/2\\n/simple.html</th>\n",
       "      <th>HTTP/3\\n/simple.html</th>\n",
       "    </tr>\n",
       "  </thead>\n",
       "  <tbody>\n",
       "    <tr>\n",
       "      <th>0</th>\n",
       "      <td>34.0</td>\n",
       "      <td>36.0</td>\n",
       "    </tr>\n",
       "    <tr>\n",
       "      <th>1</th>\n",
       "      <td>35.0</td>\n",
       "      <td>32.0</td>\n",
       "    </tr>\n",
       "    <tr>\n",
       "      <th>2</th>\n",
       "      <td>34.0</td>\n",
       "      <td>35.0</td>\n",
       "    </tr>\n",
       "    <tr>\n",
       "      <th>3</th>\n",
       "      <td>32.0</td>\n",
       "      <td>39.0</td>\n",
       "    </tr>\n",
       "    <tr>\n",
       "      <th>4</th>\n",
       "      <td>31.0</td>\n",
       "      <td>37.0</td>\n",
       "    </tr>\n",
       "    <tr>\n",
       "      <th>...</th>\n",
       "      <td>...</td>\n",
       "      <td>...</td>\n",
       "    </tr>\n",
       "    <tr>\n",
       "      <th>280</th>\n",
       "      <td>31.0</td>\n",
       "      <td>39.0</td>\n",
       "    </tr>\n",
       "    <tr>\n",
       "      <th>281</th>\n",
       "      <td>34.0</td>\n",
       "      <td>33.0</td>\n",
       "    </tr>\n",
       "    <tr>\n",
       "      <th>282</th>\n",
       "      <td>32.0</td>\n",
       "      <td>33.0</td>\n",
       "    </tr>\n",
       "    <tr>\n",
       "      <th>283</th>\n",
       "      <td>34.0</td>\n",
       "      <td>40.0</td>\n",
       "    </tr>\n",
       "    <tr>\n",
       "      <th>284</th>\n",
       "      <td>29.0</td>\n",
       "      <td>33.0</td>\n",
       "    </tr>\n",
       "  </tbody>\n",
       "</table>\n",
       "<p>285 rows × 2 columns</p>\n",
       "</div>"
      ],
      "text/plain": [
       "     HTTP/2\\n/simple.html  HTTP/3\\n/simple.html\n",
       "0                    34.0                  36.0\n",
       "1                    35.0                  32.0\n",
       "2                    34.0                  35.0\n",
       "3                    32.0                  39.0\n",
       "4                    31.0                  37.0\n",
       "..                    ...                   ...\n",
       "280                  31.0                  39.0\n",
       "281                  34.0                  33.0\n",
       "282                  32.0                  33.0\n",
       "283                  34.0                  40.0\n",
       "284                  29.0                  33.0\n",
       "\n",
       "[285 rows x 2 columns]"
      ]
     },
     "execution_count": 85,
     "metadata": {},
     "output_type": "execute_result"
    }
   ],
   "source": [
    "client60_simple_h2 = cpu_performance(client60_simple, client60_simple_h2_start, client60_simple_h2_end)\n",
    "des_simple_h2 = client60_simple_h2[[r\"%usr\", r\"%system\", r\"%CPU\"]].describe()\n",
    "des_simple_h2.to_csv(\"server-simple-h2.csv\")\n",
    "client60_simple_h3 = cpu_performance(client60_simple, client60_simple_h3_start, client60_simple_h3_end)\n",
    "des_simple_h3 = client60_simple_h3[[r\"%usr\", r\"%system\", r\"%CPU\"]].describe()\n",
    "des_simple_h3.to_csv(\"server-simple-h3.csv\")\n",
    "result_simple = pd.DataFrame()\n",
    "result_simple[\"HTTP/2\\n/simple.html\"] = client60_simple_h2[r\"%CPU\"].reset_index(drop=True)\n",
    "result_simple[\"HTTP/3\\n/simple.html\"] = client60_simple_h3[r\"%CPU\"].reset_index(drop=True)\n",
    "result_simple.to_csv(\"server-describe.csv\", index=False)\n",
    "result_simple\n"
   ]
  },
  {
   "cell_type": "code",
   "execution_count": 86,
   "metadata": {},
   "outputs": [],
   "source": [
    "# fig, axes = plt.subplots(nrows=2, ncols=1, figsize=(5, 6))\n",
    "# plt.subplots_adjust(wspace=0.3, hspace=0.4)\n",
    "result = pd.concat([result_simple, result_single], axis=1)\n"
   ]
  },
  {
   "cell_type": "code",
   "execution_count": 87,
   "metadata": {},
   "outputs": [
    {
     "data": {
      "image/png": "[encoded data removed]",
      "text/plain": [
       "<Figure size 500x300 with 1 Axes>"
      ]
     },
     "metadata": {},
     "output_type": "display_data"
    }
   ],
   "source": [
    "plot = result.plot.box(\n",
    "    showmeans=True, ylabel=\"CPU使用率(%)\", figsize=(5, 3), whis=[0, 100]\n",
    ")\n",
    "plot.set_ylim(0)\n",
    "plot.grid(which=\"major\", axis=\"y\")\n"
   ]
  },
  {
   "cell_type": "code",
   "execution_count": 88,
   "metadata": {},
   "outputs": [],
   "source": [
    "from scipy.stats import f\n",
    "from scipy import stats\n",
    "import numpy as np\n",
    "\n",
    "\n",
    "def ftest(a, b):\n",
    "    # 　統計量Fの計算\n",
    "    v1 = np.var(a, ddof=1)\n",
    "    v2 = np.var(b, ddof=1)\n",
    "    n1 = len(a)\n",
    "    n2 = len(b)\n",
    "    f_value = v1 / v2\n",
    "\n",
    "    # 帰無仮説が正しい場合にFが従う確率分を生成\n",
    "    f_frozen = f.freeze(dfn=n1 - 1, dfd=n2 - 1)\n",
    "\n",
    "    # 右側\n",
    "    p1 = f_frozen.sf(f_value)\n",
    "    # 左側\n",
    "    p2 = f_frozen.cdf(f_value)\n",
    "    # 小さい方の2倍がp値\n",
    "    p_value = min(p1, p2) * 2\n",
    "\n",
    "    # 統計量Fとp値を返す\n",
    "    return f_value, p_value\n",
    "\n",
    "\n",
    "def t_test(a, b):\n",
    "    a = a.dropna()\n",
    "    b = b.dropna()\n",
    "    print(\n",
    "        a.mean(),\n",
    "        a.std(),\n",
    "        b.mean(),\n",
    "        b.std(),\n",
    "    )\n",
    "    f = ftest(\n",
    "        a,\n",
    "        b,\n",
    "    )\n",
    "    toubunsanse = (\n",
    "        ftest(\n",
    "            a,\n",
    "            b,\n",
    "        )[1]\n",
    "        > 0.0005\n",
    "    )\n",
    "    print(f\"{f=}\")\n",
    "    print(f\"{toubunsanse=}\")\n",
    "    print(\n",
    "        stats.shapiro(a)[1],\n",
    "        stats.shapiro(b)[1],\n",
    "    )\n",
    "    print(\n",
    "        stats.ttest_ind(\n",
    "            a,\n",
    "            b,\n",
    "            equal_var=toubunsanse,\n",
    "        )\n",
    "    )"
   ]
  },
  {
   "cell_type": "code",
   "execution_count": 89,
   "metadata": {},
   "outputs": [],
   "source": [
    "results = result\n"
   ]
  },
  {
   "cell_type": "code",
   "execution_count": 90,
   "metadata": {},
   "outputs": [
    {
     "name": "stdout",
     "output_type": "stream",
     "text": [
      "32.980210526315794 2.441118702337699 35.65014035087719 2.477410331790691\n",
      "f=(0.9709165570051213, 0.8037689461642022)\n",
      "toubunsanse=True\n",
      "0.0018186196684837341 0.0006941667525097728\n",
      "Ttest_indResult(statistic=-12.959558704452624, pvalue=7.813565174566463e-34)\n"
     ]
    },
    {
     "data": {
      "text/plain": [
       "<AxesSubplot: ylabel='Frequency'>"
      ]
     },
     "execution_count": 90,
     "metadata": {},
     "output_type": "execute_result"
    },
    {
     "data": {
      "image/png": "[encoded data removed]",
      "text/plain": [
       "<Figure size 640x480 with 1 Axes>"
      ]
     },
     "metadata": {},
     "output_type": "display_data"
    }
   ],
   "source": [
    "t_test(\n",
    "    results[\"HTTP/2\\n/simple.html\"],\n",
    "    results[\"HTTP/3\\n/simple.html\"],\n",
    ")\n",
    "results[\"HTTP/2\\n/simple.html\"].plot.hist()\n",
    "results[\"HTTP/3\\n/simple.html\"].plot.hist()\n"
   ]
  },
  {
   "cell_type": "code",
   "execution_count": 91,
   "metadata": {},
   "outputs": [
    {
     "name": "stdout",
     "output_type": "stream",
     "text": [
      "16.10930870712401 4.895462890639242 58.23661213720317 5.386695999975933\n",
      "f=(0.8259287659627641, 3.21289404900475e-05)\n",
      "toubunsanse=False\n",
      "2.763884390452609e-12 6.932284929336277e-15\n",
      "Ttest_indResult(statistic=-251.94392215058608, pvalue=0.0)\n"
     ]
    },
    {
     "data": {
      "text/plain": [
       "<AxesSubplot: ylabel='Frequency'>"
      ]
     },
     "execution_count": 91,
     "metadata": {},
     "output_type": "execute_result"
    },
    {
     "data": {
      "image/png": "[encoded data removed]",
      "text/plain": [
       "<Figure size 640x480 with 1 Axes>"
      ]
     },
     "metadata": {},
     "output_type": "display_data"
    }
   ],
   "source": [
    "t_test(\n",
    "    results[\"HTTP/2\\n/single.html\"],\n",
    "    results[\"HTTP/3\\n/single.html\"],\n",
    ")\n",
    "results[\"HTTP/2\\n/single.html\"].plot.hist()\n",
    "results[\"HTTP/3\\n/single.html\"].plot.hist()"
   ]
  }
 ],
 "metadata": {
  "kernelspec": {
   "display_name": "base",
   "language": "python",
   "name": "python3"
  },
  "language_info": {
   "codemirror_mode": {
    "name": "ipython",
    "version": 3
   },
   "file_extension": ".py",
   "mimetype": "text/x-python",
   "name": "python",
   "nbconvert_exporter": "python",
   "pygments_lexer": "ipython3",
   "version": "3.9.15"
  },
  "orig_nbformat": 4,
  "vscode": {
   "interpreter": {
    "hash": "6cff3beb847e3f75f9e6661096247acfb94378292eac2d62b721b3e3c86d01e5"
   }
  }
 },
 "nbformat": 4,
 "nbformat_minor": 2
}

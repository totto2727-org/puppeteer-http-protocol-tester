{
 "cells": [
  {
   "cell_type": "code",
   "execution_count": 1,
   "metadata": {},
   "outputs": [],
   "source": [
    "import numpy as np\n",
    "import pandas as pd"
   ]
  },
  {
   "cell_type": "code",
   "execution_count": 2,
   "metadata": {},
   "outputs": [
    {
     "data": {
      "text/html": [
       "<div>\n",
       "<style scoped>\n",
       "    .dataframe tbody tr th:only-of-type {\n",
       "        vertical-align: middle;\n",
       "    }\n",
       "\n",
       "    .dataframe tbody tr th {\n",
       "        vertical-align: top;\n",
       "    }\n",
       "\n",
       "    .dataframe thead th {\n",
       "        text-align: right;\n",
       "    }\n",
       "</style>\n",
       "<table border=\"1\" class=\"dataframe\">\n",
       "  <thead>\n",
       "    <tr style=\"text-align: right;\">\n",
       "      <th></th>\n",
       "      <th>n</th>\n",
       "      <th>protocol</th>\n",
       "      <th>url</th>\n",
       "      <th>status</th>\n",
       "      <th>baseUnixTime</th>\n",
       "      <th>startMili</th>\n",
       "      <th>endMili</th>\n",
       "      <th>durationMili</th>\n",
       "    </tr>\n",
       "  </thead>\n",
       "  <tbody>\n",
       "    <tr>\n",
       "      <th>50631</th>\n",
       "      <td>999</td>\n",
       "      <td>h2</td>\n",
       "      <td>https://quic.totto.page/js/32k.js</td>\n",
       "      <td>200</td>\n",
       "      <td>1673490238583</td>\n",
       "      <td>111</td>\n",
       "      <td>398</td>\n",
       "      <td>287</td>\n",
       "    </tr>\n",
       "    <tr>\n",
       "      <th>50632</th>\n",
       "      <td>999</td>\n",
       "      <td>h2</td>\n",
       "      <td>https://quic.totto.page/js/34k.js</td>\n",
       "      <td>200</td>\n",
       "      <td>1673490238583</td>\n",
       "      <td>111</td>\n",
       "      <td>402</td>\n",
       "      <td>290</td>\n",
       "    </tr>\n",
       "    <tr>\n",
       "      <th>50633</th>\n",
       "      <td>999</td>\n",
       "      <td>h2</td>\n",
       "      <td>https://quic.totto.page/js/36k.js</td>\n",
       "      <td>200</td>\n",
       "      <td>1673490238583</td>\n",
       "      <td>111</td>\n",
       "      <td>405</td>\n",
       "      <td>293</td>\n",
       "    </tr>\n",
       "    <tr>\n",
       "      <th>50634</th>\n",
       "      <td>999</td>\n",
       "      <td>h2</td>\n",
       "      <td>https://quic.totto.page/js/38k.js</td>\n",
       "      <td>200</td>\n",
       "      <td>1673490238583</td>\n",
       "      <td>111</td>\n",
       "      <td>408</td>\n",
       "      <td>296</td>\n",
       "    </tr>\n",
       "    <tr>\n",
       "      <th>50635</th>\n",
       "      <td>999</td>\n",
       "      <td>h2</td>\n",
       "      <td>https://quic.totto.page/js/40k.js</td>\n",
       "      <td>200</td>\n",
       "      <td>1673490238583</td>\n",
       "      <td>112</td>\n",
       "      <td>411</td>\n",
       "      <td>299</td>\n",
       "    </tr>\n",
       "  </tbody>\n",
       "</table>\n",
       "</div>"
      ],
      "text/plain": [
       "         n protocol                                url  status   baseUnixTime  \\\n",
       "50631  999       h2  https://quic.totto.page/js/32k.js     200  1673490238583   \n",
       "50632  999       h2  https://quic.totto.page/js/34k.js     200  1673490238583   \n",
       "50633  999       h2  https://quic.totto.page/js/36k.js     200  1673490238583   \n",
       "50634  999       h2  https://quic.totto.page/js/38k.js     200  1673490238583   \n",
       "50635  999       h2  https://quic.totto.page/js/40k.js     200  1673490238583   \n",
       "\n",
       "       startMili  endMili  durationMili  \n",
       "50631        111      398           287  \n",
       "50632        111      402           290  \n",
       "50633        111      405           293  \n",
       "50634        111      408           296  \n",
       "50635        112      411           299  "
      ]
     },
     "execution_count": 2,
     "metadata": {},
     "output_type": "execute_result"
    }
   ],
   "source": [
    "h2 = pd.read_json(\"../log/h2-performances-processed.json\")\n",
    "h2.tail()"
   ]
  },
  {
   "cell_type": "code",
   "execution_count": 3,
   "metadata": {},
   "outputs": [
    {
     "data": {
      "text/plain": [
       "n                int64\n",
       "protocol        object\n",
       "url             object\n",
       "status           int64\n",
       "baseUnixTime     int64\n",
       "startMili        int64\n",
       "endMili          int64\n",
       "durationMili     int64\n",
       "dtype: object"
      ]
     },
     "execution_count": 3,
     "metadata": {},
     "output_type": "execute_result"
    }
   ],
   "source": [
    "h2.dtypes"
   ]
  },
  {
   "cell_type": "code",
   "execution_count": 4,
   "metadata": {},
   "outputs": [
    {
     "data": {
      "text/html": [
       "<div>\n",
       "<style scoped>\n",
       "    .dataframe tbody tr th:only-of-type {\n",
       "        vertical-align: middle;\n",
       "    }\n",
       "\n",
       "    .dataframe tbody tr th {\n",
       "        vertical-align: top;\n",
       "    }\n",
       "\n",
       "    .dataframe thead th {\n",
       "        text-align: right;\n",
       "    }\n",
       "</style>\n",
       "<table border=\"1\" class=\"dataframe\">\n",
       "  <thead>\n",
       "    <tr style=\"text-align: right;\">\n",
       "      <th></th>\n",
       "      <th>n</th>\n",
       "      <th>protocol</th>\n",
       "      <th>url</th>\n",
       "      <th>status</th>\n",
       "      <th>baseUnixTime</th>\n",
       "      <th>startMili</th>\n",
       "      <th>endMili</th>\n",
       "      <th>durationMili</th>\n",
       "    </tr>\n",
       "  </thead>\n",
       "  <tbody>\n",
       "    <tr>\n",
       "      <th>50995</th>\n",
       "      <td>999</td>\n",
       "      <td>h3</td>\n",
       "      <td>https://quic.totto.page/js/32k.js</td>\n",
       "      <td>200</td>\n",
       "      <td>1673490553156</td>\n",
       "      <td>73</td>\n",
       "      <td>356</td>\n",
       "      <td>283</td>\n",
       "    </tr>\n",
       "    <tr>\n",
       "      <th>50996</th>\n",
       "      <td>999</td>\n",
       "      <td>h3</td>\n",
       "      <td>https://quic.totto.page/js/34k.js</td>\n",
       "      <td>200</td>\n",
       "      <td>1673490553156</td>\n",
       "      <td>73</td>\n",
       "      <td>363</td>\n",
       "      <td>289</td>\n",
       "    </tr>\n",
       "    <tr>\n",
       "      <th>50997</th>\n",
       "      <td>999</td>\n",
       "      <td>h3</td>\n",
       "      <td>https://quic.totto.page/js/36k.js</td>\n",
       "      <td>200</td>\n",
       "      <td>1673490553156</td>\n",
       "      <td>73</td>\n",
       "      <td>367</td>\n",
       "      <td>293</td>\n",
       "    </tr>\n",
       "    <tr>\n",
       "      <th>50998</th>\n",
       "      <td>999</td>\n",
       "      <td>h3</td>\n",
       "      <td>https://quic.totto.page/js/38k.js</td>\n",
       "      <td>200</td>\n",
       "      <td>1673490553156</td>\n",
       "      <td>73</td>\n",
       "      <td>370</td>\n",
       "      <td>296</td>\n",
       "    </tr>\n",
       "    <tr>\n",
       "      <th>50999</th>\n",
       "      <td>999</td>\n",
       "      <td>h3</td>\n",
       "      <td>https://quic.totto.page/js/40k.js</td>\n",
       "      <td>200</td>\n",
       "      <td>1673490553156</td>\n",
       "      <td>74</td>\n",
       "      <td>372</td>\n",
       "      <td>298</td>\n",
       "    </tr>\n",
       "  </tbody>\n",
       "</table>\n",
       "</div>"
      ],
      "text/plain": [
       "         n protocol                                url  status   baseUnixTime  \\\n",
       "50995  999       h3  https://quic.totto.page/js/32k.js     200  1673490553156   \n",
       "50996  999       h3  https://quic.totto.page/js/34k.js     200  1673490553156   \n",
       "50997  999       h3  https://quic.totto.page/js/36k.js     200  1673490553156   \n",
       "50998  999       h3  https://quic.totto.page/js/38k.js     200  1673490553156   \n",
       "50999  999       h3  https://quic.totto.page/js/40k.js     200  1673490553156   \n",
       "\n",
       "       startMili  endMili  durationMili  \n",
       "50995         73      356           283  \n",
       "50996         73      363           289  \n",
       "50997         73      367           293  \n",
       "50998         73      370           296  \n",
       "50999         74      372           298  "
      ]
     },
     "execution_count": 4,
     "metadata": {},
     "output_type": "execute_result"
    }
   ],
   "source": [
    "h3 = pd.read_json(\"../log/h3-performances-prosessed.json\")\n",
    "h3.tail()"
   ]
  },
  {
   "cell_type": "code",
   "execution_count": 5,
   "metadata": {},
   "outputs": [
    {
     "data": {
      "text/plain": [
       "n                int64\n",
       "protocol        object\n",
       "url             object\n",
       "status           int64\n",
       "baseUnixTime     int64\n",
       "startMili        int64\n",
       "endMili          int64\n",
       "durationMili     int64\n",
       "dtype: object"
      ]
     },
     "execution_count": 5,
     "metadata": {},
     "output_type": "execute_result"
    }
   ],
   "source": [
    "h3.dtypes"
   ]
  },
  {
   "cell_type": "code",
   "execution_count": 6,
   "metadata": {},
   "outputs": [
    {
     "name": "stdout",
     "output_type": "stream",
     "text": [
      "50636\n",
      "51000\n"
     ]
    }
   ],
   "source": [
    "print(len(h2[h2[\"status\"] == 200]))\n",
    "print(len(h3[h3[\"status\"] == 200]))"
   ]
  },
  {
   "cell_type": "code",
   "execution_count": 7,
   "metadata": {},
   "outputs": [
    {
     "data": {
      "text/plain": [
       "415.318"
      ]
     },
     "execution_count": 7,
     "metadata": {},
     "output_type": "execute_result"
    }
   ],
   "source": [
    "mins = h2.groupby(\"n\").min()[\"durationMili\"]\n",
    "maxs = h2.groupby(\"n\").max()[\"durationMili\"]\n",
    "np.average(maxs - mins)"
   ]
  },
  {
   "cell_type": "code",
   "execution_count": 8,
   "metadata": {},
   "outputs": [
    {
     "data": {
      "text/plain": [
       "705.451"
      ]
     },
     "execution_count": 8,
     "metadata": {},
     "output_type": "execute_result"
    }
   ],
   "source": [
    "mins = h3.groupby(\"n\").min()[\"durationMili\"]\n",
    "maxs = h3.groupby(\"n\").max()[\"durationMili\"]\n",
    "np.average(maxs - mins)"
   ]
  },
  {
   "cell_type": "code",
   "execution_count": 9,
   "metadata": {},
   "outputs": [
    {
     "name": "stderr",
     "output_type": "stream",
     "text": [
      "/var/folders/bf/kn4k8swd7vq0tzxz1_jvzsr80000gq/T/ipykernel_77444/1019507649.py:1: FutureWarning: The default value of numeric_only in DataFrameGroupBy.sum is deprecated. In a future version, numeric_only will default to False. Either specify numeric_only or select only columns which should be valid for the function.\n",
      "  np.average(h3.groupby(\"n\").sum()[\"durationMili\"].to_numpy())\n"
     ]
    },
    {
     "data": {
      "text/plain": [
       "21714.574"
      ]
     },
     "execution_count": 9,
     "metadata": {},
     "output_type": "execute_result"
    }
   ],
   "source": [
    "np.average(h3.groupby(\"n\").sum()[\"durationMili\"].to_numpy())"
   ]
  },
  {
   "cell_type": "code",
   "execution_count": null,
   "metadata": {},
   "outputs": [],
   "source": []
  }
 ],
 "metadata": {
  "kernelspec": {
   "display_name": "base",
   "language": "python",
   "name": "python3"
  },
  "language_info": {
   "codemirror_mode": {
    "name": "ipython",
    "version": 3
   },
   "file_extension": ".py",
   "mimetype": "text/x-python",
   "name": "python",
   "nbconvert_exporter": "python",
   "pygments_lexer": "ipython3",
   "version": "3.9.15"
  },
  "orig_nbformat": 4,
  "vscode": {
   "interpreter": {
    "hash": "6cff3beb847e3f75f9e6661096247acfb94378292eac2d62b721b3e3c86d01e5"
   }
  }
 },
 "nbformat": 4,
 "nbformat_minor": 2
}

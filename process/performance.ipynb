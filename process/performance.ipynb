{
 "cells": [
  {
   "cell_type": "code",
   "execution_count": 137,
   "metadata": {},
   "outputs": [],
   "source": [
    "import numpy as np\n",
    "import pandas as pd"
   ]
  },
  {
   "cell_type": "code",
   "execution_count": 138,
   "metadata": {},
   "outputs": [
    {
     "data": {
      "text/html": [
       "<div>\n",
       "<style scoped>\n",
       "    .dataframe tbody tr th:only-of-type {\n",
       "        vertical-align: middle;\n",
       "    }\n",
       "\n",
       "    .dataframe tbody tr th {\n",
       "        vertical-align: top;\n",
       "    }\n",
       "\n",
       "    .dataframe thead th {\n",
       "        text-align: right;\n",
       "    }\n",
       "</style>\n",
       "<table border=\"1\" class=\"dataframe\">\n",
       "  <thead>\n",
       "    <tr style=\"text-align: right;\">\n",
       "      <th></th>\n",
       "      <th>n</th>\n",
       "      <th>protocol</th>\n",
       "      <th>url</th>\n",
       "      <th>status</th>\n",
       "      <th>baseUnixTime</th>\n",
       "      <th>startMili</th>\n",
       "      <th>endMili</th>\n",
       "      <th>durationMili</th>\n",
       "    </tr>\n",
       "  </thead>\n",
       "  <tbody>\n",
       "    <tr>\n",
       "      <th>1705</th>\n",
       "      <td>99</td>\n",
       "      <td>h3</td>\n",
       "      <td>https://www.google.com/client_204?&amp;atyp=i&amp;biw=...</td>\n",
       "      <td>204</td>\n",
       "      <td>1674106291734</td>\n",
       "      <td>935</td>\n",
       "      <td>1013</td>\n",
       "      <td>78</td>\n",
       "    </tr>\n",
       "    <tr>\n",
       "      <th>1706</th>\n",
       "      <td>99</td>\n",
       "      <td>h3</td>\n",
       "      <td>https://www.google.com/xjs/_/js/k=xjs.s.ja.ZMX...</td>\n",
       "      <td>200</td>\n",
       "      <td>1674106291734</td>\n",
       "      <td>1052</td>\n",
       "      <td>1097</td>\n",
       "      <td>45</td>\n",
       "    </tr>\n",
       "    <tr>\n",
       "      <th>1707</th>\n",
       "      <td>99</td>\n",
       "      <td>h3</td>\n",
       "      <td>https://www.google.com/gen_204?atyp=i&amp;ei=s9XIY...</td>\n",
       "      <td>204</td>\n",
       "      <td>1674106291734</td>\n",
       "      <td>1056</td>\n",
       "      <td>1122</td>\n",
       "      <td>65</td>\n",
       "    </tr>\n",
       "    <tr>\n",
       "      <th>1708</th>\n",
       "      <td>99</td>\n",
       "      <td>h3</td>\n",
       "      <td>https://www.google.com/client_204?cs=1</td>\n",
       "      <td>204</td>\n",
       "      <td>1674106291734</td>\n",
       "      <td>1057</td>\n",
       "      <td>1132</td>\n",
       "      <td>74</td>\n",
       "    </tr>\n",
       "    <tr>\n",
       "      <th>1709</th>\n",
       "      <td>99</td>\n",
       "      <td>h3</td>\n",
       "      <td>https://www.google.com/gen_204?use_corp=on&amp;aty...</td>\n",
       "      <td>204</td>\n",
       "      <td>1674106291734</td>\n",
       "      <td>1111</td>\n",
       "      <td>1171</td>\n",
       "      <td>59</td>\n",
       "    </tr>\n",
       "  </tbody>\n",
       "</table>\n",
       "</div>"
      ],
      "text/plain": [
       "       n protocol                                                url  status  \\\n",
       "1705  99       h3  https://www.google.com/client_204?&atyp=i&biw=...     204   \n",
       "1706  99       h3  https://www.google.com/xjs/_/js/k=xjs.s.ja.ZMX...     200   \n",
       "1707  99       h3  https://www.google.com/gen_204?atyp=i&ei=s9XIY...     204   \n",
       "1708  99       h3             https://www.google.com/client_204?cs=1     204   \n",
       "1709  99       h3  https://www.google.com/gen_204?use_corp=on&aty...     204   \n",
       "\n",
       "       baseUnixTime  startMili  endMili  durationMili  \n",
       "1705  1674106291734        935     1013            78  \n",
       "1706  1674106291734       1052     1097            45  \n",
       "1707  1674106291734       1056     1122            65  \n",
       "1708  1674106291734       1057     1132            74  \n",
       "1709  1674106291734       1111     1171            59  "
      ]
     },
     "execution_count": 138,
     "metadata": {},
     "output_type": "execute_result"
    }
   ],
   "source": [
    "h2 = pd.read_json(\"../log/h2-performances-processed.json\")\n",
    "h2.tail()"
   ]
  },
  {
   "cell_type": "code",
   "execution_count": 139,
   "metadata": {},
   "outputs": [
    {
     "data": {
      "text/plain": [
       "n                int64\n",
       "protocol        object\n",
       "url             object\n",
       "status           int64\n",
       "baseUnixTime     int64\n",
       "startMili        int64\n",
       "endMili          int64\n",
       "durationMili     int64\n",
       "dtype: object"
      ]
     },
     "execution_count": 139,
     "metadata": {},
     "output_type": "execute_result"
    }
   ],
   "source": [
    "h2.dtypes"
   ]
  },
  {
   "cell_type": "code",
   "execution_count": 140,
   "metadata": {},
   "outputs": [
    {
     "data": {
      "text/html": [
       "<div>\n",
       "<style scoped>\n",
       "    .dataframe tbody tr th:only-of-type {\n",
       "        vertical-align: middle;\n",
       "    }\n",
       "\n",
       "    .dataframe tbody tr th {\n",
       "        vertical-align: top;\n",
       "    }\n",
       "\n",
       "    .dataframe thead th {\n",
       "        text-align: right;\n",
       "    }\n",
       "</style>\n",
       "<table border=\"1\" class=\"dataframe\">\n",
       "  <thead>\n",
       "    <tr style=\"text-align: right;\">\n",
       "      <th></th>\n",
       "      <th>n</th>\n",
       "      <th>protocol</th>\n",
       "      <th>url</th>\n",
       "      <th>status</th>\n",
       "      <th>baseUnixTime</th>\n",
       "      <th>startMili</th>\n",
       "      <th>endMili</th>\n",
       "      <th>durationMili</th>\n",
       "    </tr>\n",
       "  </thead>\n",
       "  <tbody>\n",
       "    <tr>\n",
       "      <th>1685</th>\n",
       "      <td>99</td>\n",
       "      <td>h3</td>\n",
       "      <td>https://www.google.com/client_204?&amp;atyp=i&amp;biw=...</td>\n",
       "      <td>204</td>\n",
       "      <td>1674106439525</td>\n",
       "      <td>868</td>\n",
       "      <td>936</td>\n",
       "      <td>67</td>\n",
       "    </tr>\n",
       "    <tr>\n",
       "      <th>1686</th>\n",
       "      <td>99</td>\n",
       "      <td>h3</td>\n",
       "      <td>https://www.google.com/xjs/_/js/k=xjs.s.ja.ZMX...</td>\n",
       "      <td>200</td>\n",
       "      <td>1674106439525</td>\n",
       "      <td>1035</td>\n",
       "      <td>1070</td>\n",
       "      <td>35</td>\n",
       "    </tr>\n",
       "    <tr>\n",
       "      <th>1687</th>\n",
       "      <td>99</td>\n",
       "      <td>h3</td>\n",
       "      <td>https://www.google.com/gen_204?atyp=i&amp;ei=R9bIY...</td>\n",
       "      <td>204</td>\n",
       "      <td>1674106439525</td>\n",
       "      <td>1045</td>\n",
       "      <td>1110</td>\n",
       "      <td>64</td>\n",
       "    </tr>\n",
       "    <tr>\n",
       "      <th>1688</th>\n",
       "      <td>99</td>\n",
       "      <td>h3</td>\n",
       "      <td>https://www.google.com/client_204?cs=1</td>\n",
       "      <td>204</td>\n",
       "      <td>1674106439525</td>\n",
       "      <td>1046</td>\n",
       "      <td>1122</td>\n",
       "      <td>75</td>\n",
       "    </tr>\n",
       "    <tr>\n",
       "      <th>1689</th>\n",
       "      <td>99</td>\n",
       "      <td>h3</td>\n",
       "      <td>https://www.google.com/gen_204?use_corp=on&amp;aty...</td>\n",
       "      <td>204</td>\n",
       "      <td>1674106439525</td>\n",
       "      <td>1074</td>\n",
       "      <td>1142</td>\n",
       "      <td>68</td>\n",
       "    </tr>\n",
       "  </tbody>\n",
       "</table>\n",
       "</div>"
      ],
      "text/plain": [
       "       n protocol                                                url  status  \\\n",
       "1685  99       h3  https://www.google.com/client_204?&atyp=i&biw=...     204   \n",
       "1686  99       h3  https://www.google.com/xjs/_/js/k=xjs.s.ja.ZMX...     200   \n",
       "1687  99       h3  https://www.google.com/gen_204?atyp=i&ei=R9bIY...     204   \n",
       "1688  99       h3             https://www.google.com/client_204?cs=1     204   \n",
       "1689  99       h3  https://www.google.com/gen_204?use_corp=on&aty...     204   \n",
       "\n",
       "       baseUnixTime  startMili  endMili  durationMili  \n",
       "1685  1674106439525        868      936            67  \n",
       "1686  1674106439525       1035     1070            35  \n",
       "1687  1674106439525       1045     1110            64  \n",
       "1688  1674106439525       1046     1122            75  \n",
       "1689  1674106439525       1074     1142            68  "
      ]
     },
     "execution_count": 140,
     "metadata": {},
     "output_type": "execute_result"
    }
   ],
   "source": [
    "h3 = pd.read_json(\"../log/h3-performances-prosessed.json\")\n",
    "h3.tail()"
   ]
  },
  {
   "cell_type": "code",
   "execution_count": 141,
   "metadata": {},
   "outputs": [
    {
     "data": {
      "text/plain": [
       "n                int64\n",
       "protocol        object\n",
       "url             object\n",
       "status           int64\n",
       "baseUnixTime     int64\n",
       "startMili        int64\n",
       "endMili          int64\n",
       "durationMili     int64\n",
       "dtype: object"
      ]
     },
     "execution_count": 141,
     "metadata": {},
     "output_type": "execute_result"
    }
   ],
   "source": [
    "h3.dtypes"
   ]
  },
  {
   "cell_type": "code",
   "execution_count": 142,
   "metadata": {},
   "outputs": [
    {
     "name": "stdout",
     "output_type": "stream",
     "text": [
      "6408\n",
      "6400\n"
     ]
    }
   ],
   "source": [
    "h2 = h2[((h2[\"protocol\"] == \"h2\") | (h2[\"protocol\"] == \"h3\")) & (h2[\"status\"] == 200)]\n",
    "print(h2.size)\n",
    "h3 = h3[((h3[\"protocol\"] == \"h2\") | (h3[\"protocol\"] == \"h3\") )& (h3[\"status\"] == 200)]\n",
    "print(h3.size)"
   ]
  },
  {
   "cell_type": "code",
   "execution_count": 143,
   "metadata": {},
   "outputs": [
    {
     "data": {
      "text/plain": [
       "1164.36"
      ]
     },
     "execution_count": 143,
     "metadata": {},
     "output_type": "execute_result"
    }
   ],
   "source": [
    "mins = h2.groupby(\"n\").min()[\"startMili\"]\n",
    "maxs = h2.groupby(\"n\").max()[\"endMili\"]\n",
    "duration_h2 = maxs - mins\n",
    "np.average(duration_h2)"
   ]
  },
  {
   "cell_type": "code",
   "execution_count": 144,
   "metadata": {},
   "outputs": [
    {
     "data": {
      "text/plain": [
       "1087.47"
      ]
     },
     "execution_count": 144,
     "metadata": {},
     "output_type": "execute_result"
    }
   ],
   "source": [
    "mins = h3.groupby(\"n\").min()[\"startMili\"]\n",
    "maxs = h3.groupby(\"n\").max()[\"endMili\"]\n",
    "duration_h3 = maxs - mins\n",
    "np.average(duration_h3)"
   ]
  },
  {
   "cell_type": "code",
   "execution_count": 145,
   "metadata": {},
   "outputs": [
    {
     "data": {
      "text/plain": [
       "count     100.000000\n",
       "mean     1164.360000\n",
       "std       480.358947\n",
       "min       981.000000\n",
       "25%      1032.750000\n",
       "50%      1063.000000\n",
       "75%      1097.250000\n",
       "max      5162.000000\n",
       "dtype: float64"
      ]
     },
     "execution_count": 145,
     "metadata": {},
     "output_type": "execute_result"
    }
   ],
   "source": [
    "duration_h2_describe = duration_h2.describe()\n",
    "h2_lower_limit = duration_h2_describe[\"mean\"] - duration_h2_describe[\"std\"] * 3\n",
    "h2_upper_limit = duration_h2_describe[\"mean\"] + duration_h2_describe[\"std\"] * 3\n",
    "duration_h2_describe"
   ]
  },
  {
   "cell_type": "code",
   "execution_count": 146,
   "metadata": {},
   "outputs": [
    {
     "data": {
      "text/plain": [
       "count     100.000000\n",
       "mean     1087.470000\n",
       "std       201.949411\n",
       "min       962.000000\n",
       "25%      1021.000000\n",
       "50%      1051.500000\n",
       "75%      1085.500000\n",
       "max      2395.000000\n",
       "dtype: float64"
      ]
     },
     "execution_count": 146,
     "metadata": {},
     "output_type": "execute_result"
    }
   ],
   "source": [
    "duration_h3_describe = duration_h3.describe()\n",
    "h3_lower_limit = duration_h3_describe[\"mean\"] - duration_h3_describe[\"std\"] * 3\n",
    "h3_upper_limit = duration_h3_describe[\"mean\"] + duration_h3_describe[\"std\"] * 3\n",
    "duration_h3_describe"
   ]
  },
  {
   "cell_type": "code",
   "execution_count": 147,
   "metadata": {},
   "outputs": [
    {
     "data": {
      "text/plain": [
       "0.950920909294222"
      ]
     },
     "execution_count": 147,
     "metadata": {},
     "output_type": "execute_result"
    }
   ],
   "source": [
    "duration_h2 = duration_h2[(h2_lower_limit < duration_h2) & (duration_h2 < h2_upper_limit)]\n",
    "duration_h3 = duration_h3[(h3_lower_limit < duration_h3) & (duration_h3 < h3_upper_limit)]\n",
    "np.average(duration_h3) / np.average(duration_h2)"
   ]
  },
  {
   "cell_type": "code",
   "execution_count": null,
   "metadata": {},
   "outputs": [],
   "source": [
    "\n"
   ]
  }
 ],
 "metadata": {
  "kernelspec": {
   "display_name": "base",
   "language": "python",
   "name": "python3"
  },
  "language_info": {
   "codemirror_mode": {
    "name": "ipython",
    "version": 3
   },
   "file_extension": ".py",
   "mimetype": "text/x-python",
   "name": "python",
   "nbconvert_exporter": "python",
   "pygments_lexer": "ipython3",
   "version": "3.9.15"
  },
  "orig_nbformat": 4,
  "vscode": {
   "interpreter": {
    "hash": "6cff3beb847e3f75f9e6661096247acfb94378292eac2d62b721b3e3c86d01e5"
   }
  }
 },
 "nbformat": 4,
 "nbformat_minor": 2
}

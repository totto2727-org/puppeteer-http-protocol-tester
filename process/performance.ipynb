{
 "cells": [
  {
   "cell_type": "code",
   "execution_count": 162,
   "metadata": {},
   "outputs": [],
   "source": [
    "import numpy as np\n",
    "import pandas as pd\n",
    "\n",
    "pd.set_option(\"display.width\", 1000)"
   ]
  },
  {
   "cell_type": "code",
   "execution_count": 163,
   "metadata": {},
   "outputs": [],
   "source": [
    "logs = [\n",
    "    \"../log-simple-cloudflare\",\n",
    "    \"../log-single-cloudflare\",\n",
    "    \"../log-simple-client1\",\n",
    "    \"../log-single-client1\",\n",
    "    \"../log-multi-client1\",\n",
    "    \"../log\"\n",
    "]\n"
   ]
  },
  {
   "cell_type": "code",
   "execution_count": 164,
   "metadata": {},
   "outputs": [],
   "source": [
    "def analyze(df: pd.DataFrame) -> float:\n",
    "    df = df[\n",
    "        ((df[\"protocol\"] == \"h2\") | (df[\"protocol\"] == \"h3\")) & (df[\"status\"] == 200)\n",
    "    ]\n",
    "    # print(f\"{df.size=}\")\n",
    "\n",
    "    df_groupby = df[[\"n\", \"startMili\", \"endMili\", \"baseUnixTime\"]].groupby(\"n\")\n",
    "\n",
    "    print(f'start = {df_groupby.min()[\"baseUnixTime\"].min()}')\n",
    "    print(f'end = {df_groupby.max()[\"baseUnixTime\"].max()}')\n",
    "\n",
    "    df_groupby_count = df_groupby.count()[\"startMili\"]\n",
    "    df_success = df_groupby_count == df_groupby_count.mode()[0]\n",
    "    # print(f\"{df_success[df_success].size=}\")\n",
    "\n",
    "    df_mins = df_groupby.min()[\"startMili\"]\n",
    "    df_maxs = df_groupby.max()[\"endMili\"]\n",
    "    duration_df = df_maxs - df_mins\n",
    "    duration_df = duration_df[df_success]\n",
    "\n",
    "    duration_df_describe = duration_df.describe()\n",
    "\n",
    "    df_lower_limit = duration_df_describe[\"mean\"] - duration_df_describe[\"std\"] * 3\n",
    "    df_upper_limit = duration_df_describe[\"mean\"] + duration_df_describe[\"std\"] * 3\n",
    "\n",
    "    duration_df_filtered = duration_df[\n",
    "        (df_lower_limit < duration_df) & (duration_df < df_upper_limit)\n",
    "    ]\n",
    "\n",
    "    df_des = duration_df_filtered.describe()\n",
    "\n",
    "    return pd.DataFrame([duration_df_describe, df_des], index=[\"prefilterd\", \"filterd\"])\n"
   ]
  },
  {
   "cell_type": "code",
   "execution_count": 165,
   "metadata": {},
   "outputs": [],
   "source": [
    "def compare(log: str):\n",
    "    h2 = pd.read_json(log + \"/h2-performances-processed.json\")\n",
    "    h3 = pd.read_json(log + \"/h3-performances-prosessed.json\")\n",
    "    # print()\n",
    "    print(log)\n",
    "    print(\"h2\")\n",
    "    result_h2 = analyze(h2)\n",
    "    print(result_h2)\n",
    "    print()\n",
    "    print(\"h3\")\n",
    "    result_h3 = analyze(h3)\n",
    "    print(result_h3)\n",
    "\n",
    "    print()\n"
   ]
  },
  {
   "cell_type": "code",
   "execution_count": 166,
   "metadata": {},
   "outputs": [
    {
     "name": "stdout",
     "output_type": "stream",
     "text": [
      "../log-simple-cloudflare\n",
      "h2\n",
      "start = 1674663191207\n",
      "end = 1674664568583\n",
      "             count        mean       std    min    25%    50%    75%    max\n",
      "prefilterd  1000.0  112.022000  8.741735  100.0  107.0  109.0  113.0  161.0\n",
      "filterd      992.0  111.752016  8.209357  100.0  107.0  109.0  113.0  138.0\n",
      "\n",
      "h3\n",
      "start = 1674665170091\n",
      "end = 1674666529490\n",
      "            count       mean       std   min   25%   50%   75%    max\n",
      "prefilterd  999.0  89.338338  8.616387  75.0  84.0  86.0  89.0  165.0\n",
      "filterd     992.0  89.031250  7.685154  75.0  84.0  86.0  89.0  115.0\n",
      "\n",
      "../log-single-cloudflare\n",
      "h2\n",
      "start = 1674715385259\n",
      "end = 1674718244255\n",
      "            count         mean         std     min     25%     50%     75%     max\n",
      "prefilterd  807.0  1532.852540  154.885828  1417.0  1463.5  1508.0  1564.0  4769.0\n",
      "filterd     801.0  1524.285893   85.435762  1417.0  1463.0  1507.0  1562.0  1989.0\n",
      "\n",
      "h3\n",
      "start = 1674718847176\n",
      "end = 1674721704000\n",
      "            count         mean         std     min     25%     50%     75%     max\n",
      "prefilterd  922.0  1493.040130  210.086698  1404.0  1428.0  1449.0  1502.0  5056.0\n",
      "filterd     908.0  1472.721366   71.686707  1404.0  1428.0  1448.0  1500.0  2074.0\n",
      "\n",
      "../log-simple-client1\n",
      "h2\n",
      "start = 1674455474433\n",
      "end = 1674456777409\n",
      "             count       mean       std   min   25%   50%   75%   max\n",
      "prefilterd  1000.0  42.303000  1.008071  34.0  42.0  42.0  43.0  46.0\n",
      "filterd      992.0  42.330645  0.922610  40.0  42.0  42.0  43.0  45.0\n",
      "\n",
      "h3\n",
      "start = 1674457379074\n",
      "end = 1674458676347\n",
      "             count       mean       std   min   25%   50%   75%   max\n",
      "prefilterd  1000.0  43.483000  1.132693  35.0  43.0  44.0  44.0  47.0\n",
      "filterd      987.0  43.537994  0.947574  41.0  43.0  44.0  44.0  46.0\n",
      "\n",
      "../log-single-client1\n",
      "h2\n",
      "start = 1674447642663\n",
      "end = 1674450410488\n",
      "             count         mean        std     min     25%     50%     75%     max\n",
      "prefilterd  1000.0  1524.658000  20.170074  1470.0  1510.0  1525.0  1539.0  1612.0\n",
      "filterd      999.0  1524.570571  19.989696  1470.0  1510.0  1525.0  1539.0  1573.0\n",
      "\n",
      "h3\n",
      "start = 1674451013377\n",
      "end = 1674454041090\n",
      "            count         mean       std     min     25%     50%     75%     max\n",
      "prefilterd  946.0  1453.297040  3.508045  1435.0  1451.0  1453.0  1455.0  1466.0\n",
      "filterd     936.0  1453.313034  3.252852  1444.0  1451.0  1453.0  1455.0  1463.0\n",
      "\n",
      "../log-multi-client1\n",
      "h2\n",
      "start = 1674839185439\n",
      "end = 1674842040035\n",
      "             count         mean        std     min     25%     50%     75%     max\n",
      "prefilterd  1000.0  1284.713000  77.335913  1177.0  1246.0  1268.5  1291.0  1827.0\n",
      "filterd      973.0  1274.686536  47.731991  1177.0  1245.0  1267.0  1289.0  1516.0\n",
      "\n",
      "h3\n",
      "start = 1674842643088\n",
      "end = 1674845441357\n",
      "             count         mean        std     min     25%     50%     75%     max\n",
      "prefilterd  1000.0  1545.467000  40.539788  1455.0  1517.0  1541.0  1570.0  1698.0\n",
      "filterd      993.0  1544.516616  39.050887  1455.0  1516.0  1540.0  1570.0  1667.0\n",
      "\n",
      "../log\n",
      "h2\n",
      "start = 1675001768472\n",
      "end = 1675004621411\n",
      "             count         mean        std     min     25%     50%     75%     max\n",
      "prefilterd  1000.0  1282.720000  78.634464  1190.0  1242.0  1269.0  1292.0  1909.0\n",
      "filterd      972.0  1272.024691  45.732030  1190.0  1242.0  1267.0  1289.0  1515.0\n",
      "\n",
      "h3\n",
      "start = 1675005224797\n",
      "end = 1675008021907\n",
      "             count         mean        std     min     25%     50%     75%     max\n",
      "prefilterd  1000.0  1544.785000  42.449107  1442.0  1513.0  1539.0  1572.0  1728.0\n",
      "filterd      994.0  1543.869215  40.871979  1442.0  1513.0  1538.0  1571.0  1664.0\n",
      "\n"
     ]
    }
   ],
   "source": [
    "for log in logs:\n",
    "    compare(log)"
   ]
  },
  {
   "cell_type": "code",
   "execution_count": 167,
   "metadata": {},
   "outputs": [],
   "source": [
    "import json\n",
    "\n",
    "h2_open = open(\"../log-simple-cloudflare\" + \"/h2-performances.json\", \"r\")\n",
    "h3_open = open(\"../log-simple-cloudflare\" + \"/h3-performances.json\", \"r\")\n",
    "\n",
    "h2_load = json.load(h2_open)\n",
    "h3_load = json.load(h3_open)\n",
    "\n",
    "h2_open.close()\n",
    "h3_open.close()\n"
   ]
  },
  {
   "cell_type": "code",
   "execution_count": 168,
   "metadata": {},
   "outputs": [
    {
     "data": {
      "text/plain": [
       "duration                      0.918611\n",
       "fetchStart                    1.064796\n",
       "domainLookupStart             0.997054\n",
       "domainLookupEnd               0.997686\n",
       "connectStart                  0.997686\n",
       "connectEnd                    0.802522\n",
       "secureConnectionStart         0.701130\n",
       "requestStart                  0.801311\n",
       "responseStart                 0.858383\n",
       "responseEnd                   0.884958\n",
       "domInteractive                0.918079\n",
       "domContentLoadedEventStart    0.918100\n",
       "domContentLoadedEventEnd      0.918789\n",
       "domComplete                   0.918653\n",
       "loadEventStart                0.918609\n",
       "loadEventEnd                  0.918611\n",
       "dtype: float64"
      ]
     },
     "execution_count": 168,
     "metadata": {},
     "output_type": "execute_result"
    }
   ],
   "source": [
    "from itertools import chain\n",
    "\n",
    "\n",
    "h2_entrieses = [{\"number\": x[\"number\"], **x[\"entries\"][0]} for x in h2_load]\n",
    "h2_entries = entries = pd.DataFrame(chain(h2_entrieses))\n",
    "h3_entrieses = [{\"number\": x[\"number\"], **x[\"entries\"][0]} for x in h3_load]\n",
    "h3_entries = entries = pd.DataFrame(chain(h3_entrieses))\n",
    "\n",
    "difference = h3_entries.select_dtypes(include=float) / h2_entries.select_dtypes(\n",
    "    include=float\n",
    ")\n",
    "difference = difference.replace([np.inf, -np.inf], np.nan)\n",
    "difference = difference.dropna()\n",
    "difference.mean()\n",
    "# difference.mean()\n"
   ]
  },
  {
   "cell_type": "code",
   "execution_count": null,
   "metadata": {},
   "outputs": [],
   "source": []
  }
 ],
 "metadata": {
  "kernelspec": {
   "display_name": "base",
   "language": "python",
   "name": "python3"
  },
  "language_info": {
   "codemirror_mode": {
    "name": "ipython",
    "version": 3
   },
   "file_extension": ".py",
   "mimetype": "text/x-python",
   "name": "python",
   "nbconvert_exporter": "python",
   "pygments_lexer": "ipython3",
   "version": "3.9.15 (main, Nov 24 2022, 08:28:41) \n[Clang 14.0.6 ]"
  },
  "orig_nbformat": 4,
  "vscode": {
   "interpreter": {
    "hash": "6cff3beb847e3f75f9e6661096247acfb94378292eac2d62b721b3e3c86d01e5"
   }
  }
 },
 "nbformat": 4,
 "nbformat_minor": 2
}

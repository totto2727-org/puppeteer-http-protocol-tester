{
 "cells": [
  {
   "cell_type": "code",
   "execution_count": 69,
   "metadata": {},
   "outputs": [],
   "source": [
    "import numpy as np\n",
    "import pandas as pd\n",
    "\n",
    "pd.set_option(\"display.width\", 1000)"
   ]
  },
  {
   "cell_type": "code",
   "execution_count": 70,
   "metadata": {},
   "outputs": [],
   "source": [
    "logs = [\n",
    "    \"../log-simple-cloudflare\",\n",
    "    \"../log-single-cloudflare\",\n",
    "    \"../log-simple-client1\",\n",
    "    \"../log-single-client1\",\n",
    "    # \"../log-multi-client1\",\n",
    "    # \"../log\"\n",
    "]\n"
   ]
  },
  {
   "cell_type": "code",
   "execution_count": 71,
   "metadata": {},
   "outputs": [],
   "source": [
    "def analyze(df: pd.DataFrame) -> float:\n",
    "    df = df[\n",
    "        ((df[\"protocol\"] == \"h2\") | (df[\"protocol\"] == \"h3\")) & (df[\"status\"] == 200)\n",
    "    ]\n",
    "    # print(f\"{df.size=}\")\n",
    "\n",
    "    df_groupby = df[[\"n\", \"startMili\", \"endMili\", \"baseUnixTime\"]].groupby(\"n\")\n",
    "\n",
    "    print(f'start = {df_groupby.min()[\"baseUnixTime\"].min()}')\n",
    "    print(f'end = {df_groupby.max()[\"baseUnixTime\"].max()}')\n",
    "\n",
    "    df_groupby_count = df_groupby.count()[\"startMili\"]\n",
    "    df_success = df_groupby_count == df_groupby_count.mode()[0]\n",
    "    # print(f\"{df_success[df_success].size=}\")\n",
    "\n",
    "    df_mins = df_groupby.min()[\"startMili\"]\n",
    "    df_maxs = df_groupby.max()[\"endMili\"]\n",
    "    duration_df = df_maxs - df_mins\n",
    "    duration_df = duration_df[df_success]\n",
    "\n",
    "    duration_df_describe = duration_df.describe()\n",
    "\n",
    "    df_lower_limit = duration_df_describe[\"mean\"] - duration_df_describe[\"std\"] * 3\n",
    "    df_upper_limit = duration_df_describe[\"mean\"] + duration_df_describe[\"std\"] * 3\n",
    "\n",
    "    duration_df_filtered = duration_df[\n",
    "        (df_lower_limit < duration_df) & (duration_df < df_upper_limit)\n",
    "    ]\n",
    "\n",
    "    df_des = duration_df_filtered.describe()\n",
    "\n",
    "    return pd.DataFrame([duration_df_describe, df_des], index=[\"prefilterd\", \"filterd\"])\n"
   ]
  },
  {
   "cell_type": "code",
   "execution_count": 72,
   "metadata": {},
   "outputs": [],
   "source": [
    "def compare(log: str):\n",
    "    h2 = pd.read_json(log + \"/h2-performances-processed.json\")\n",
    "    h3 = pd.read_json(log + \"/h3-performances-prosessed.json\")\n",
    "    # print()\n",
    "    print(log)\n",
    "    print(\"h2\")\n",
    "    result_h2 = analyze(h2)\n",
    "    print(result_h2)\n",
    "    print()\n",
    "    print(\"h3\")\n",
    "    result_h3 = analyze(h3)\n",
    "    print(result_h3)\n",
    "\n",
    "    print()\n"
   ]
  },
  {
   "cell_type": "code",
   "execution_count": 73,
   "metadata": {},
   "outputs": [
    {
     "name": "stdout",
     "output_type": "stream",
     "text": [
      "../log-simple-cloudflare\n",
      "h2\n",
      "start = 1675310652918\n",
      "end = 1675311973540\n",
      "             count        mean        std   min   25%    50%    75%    max\n",
      "prefilterd  1000.0  109.227000  15.950043  84.0  99.0  105.0  115.0  217.0\n",
      "filterd      976.0  107.622951  12.134598  84.0  99.0  104.0  114.0  157.0\n",
      "\n",
      "h3\n",
      "start = 1675312575286\n",
      "end = 1675313875304\n",
      "             count       mean        std   min   25%   50%   75%    max\n",
      "prefilterd  1000.0  87.078000  12.262475  66.0  80.0  84.0  90.0  198.0\n",
      "filterd      984.0  86.227642  10.135953  66.0  80.0  84.0  90.0  123.0\n",
      "\n",
      "../log-single-cloudflare\n",
      "h2\n",
      "start = 1675303474346\n",
      "end = 1675306119488\n",
      "            count         mean        std     min     25%     50%     75%     max\n",
      "prefilterd  998.0  1443.545090  30.278041  1399.0  1426.0  1436.0  1451.0  1758.0\n",
      "filterd     976.0  1440.561475  21.674854  1399.0  1426.0  1436.0  1450.0  1534.0\n",
      "\n",
      "h3\n",
      "start = 1675306722382\n",
      "end = 1675309408061\n",
      "            count         mean         std     min     25%     50%      75%     max\n",
      "prefilterd  984.0  1467.864837  147.703130  1387.0  1422.0  1440.0  1474.00  4831.0\n",
      "filterd     974.0  1456.475359   50.898998  1387.0  1422.0  1440.0  1470.75  1811.0\n",
      "\n",
      "../log-simple-client1\n",
      "h2\n",
      "start = 1675255027688\n",
      "end = 1675256263850\n",
      "             count       mean       std   min   25%   50%   75%   max\n",
      "prefilterd  1000.0  40.646000  2.494977  32.0  40.0  41.0  42.0  53.0\n",
      "filterd      990.0  40.687879  2.360476  34.0  40.0  41.0  42.0  45.0\n",
      "\n",
      "h3\n",
      "start = 1675256865232\n",
      "end = 1675258103931\n",
      "             count       mean       std   min   25%   50%   75%   max\n",
      "prefilterd  1000.0  41.924000  2.590547  33.0  41.0  43.0  44.0  47.0\n",
      "filterd      991.0  41.997982  2.482259  35.0  41.0  43.0  44.0  47.0\n",
      "\n",
      "../log-single-client1\n",
      "h2\n",
      "start = 1675259874702\n",
      "end = 1675262995922\n",
      "            count         mean        std     min     25%     50%     75%     max\n",
      "prefilterd  883.0  1516.597961  25.317984  1444.0  1500.0  1516.0  1531.0  1712.0\n",
      "filterd     877.0  1515.728620  22.875068  1444.0  1500.0  1516.0  1531.0  1590.0\n",
      "\n",
      "h3\n",
      "start = 1675263598836\n",
      "end = 1675266381104\n",
      "            count         mean       std     min     25%     50%     75%     max\n",
      "prefilterd  962.0  1447.912682  5.515343  1429.0  1445.0  1449.0  1452.0  1461.0\n",
      "filterd     954.0  1448.060797  5.294127  1432.0  1445.0  1449.0  1452.0  1461.0\n",
      "\n"
     ]
    }
   ],
   "source": [
    "for log in logs:\n",
    "    compare(log)"
   ]
  },
  {
   "cell_type": "code",
   "execution_count": null,
   "metadata": {},
   "outputs": [],
   "source": []
  }
 ],
 "metadata": {
  "kernelspec": {
   "display_name": "base",
   "language": "python",
   "name": "python3"
  },
  "language_info": {
   "codemirror_mode": {
    "name": "ipython",
    "version": 3
   },
   "file_extension": ".py",
   "mimetype": "text/x-python",
   "name": "python",
   "nbconvert_exporter": "python",
   "pygments_lexer": "ipython3",
   "version": "3.9.15 (main, Nov 24 2022, 08:28:41) \n[Clang 14.0.6 ]"
  },
  "orig_nbformat": 4,
  "vscode": {
   "interpreter": {
    "hash": "6cff3beb847e3f75f9e6661096247acfb94378292eac2d62b721b3e3c86d01e5"
   }
  }
 },
 "nbformat": 4,
 "nbformat_minor": 2
}

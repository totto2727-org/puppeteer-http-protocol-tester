{
 "cells": [
  {
   "cell_type": "code",
   "execution_count": 249,
   "metadata": {},
   "outputs": [],
   "source": [
    "import numpy as np\n",
    "import pandas as pd\n",
    "\n",
    "pd.set_option(\"display.width\", 1000)"
   ]
  },
  {
   "cell_type": "code",
   "execution_count": 250,
   "metadata": {},
   "outputs": [],
   "source": [
    "logs = [\n",
    "    \"../log-simple-cloudflare\",\n",
    "    \"../log-single-cloudflare\",\n",
    "    \"../log-simple-client1\",\n",
    "    \"../log-single-client1\",\n",
    "]\n"
   ]
  },
  {
   "cell_type": "code",
   "execution_count": 251,
   "metadata": {},
   "outputs": [],
   "source": [
    "names = {\n",
    "    \"../log-simple-cloudflare-h2\": \"実験1 Cloudflare\\nHTTP/2 /simple.html\",\n",
    "    \"../log-simple-cloudflare-h3\": \"実験1 Cloudflare\\nHTTP/3 /simple.html\",\n",
    "    \"../log-single-cloudflare-h2\": \"実験1 Cloudflare\\nHTTP/2 /single.html\",\n",
    "    \"../log-single-cloudflare-h3\": \"実験1 Cloudflare\\nHTTP/3 /single.html\",\n",
    "    \"../log-simple-client1-h2\": \"実験1 NGINX\\nHTTP/2 /simple.html\",\n",
    "    \"../log-simple-client1-h3\": \"実験1 NGINX\\nHTTP/3 /simple.html\",\n",
    "    \"../log-single-client1-h2\": \"実験1 NGINX\\nHTTP/2 /single.html\",\n",
    "    \"../log-single-client1-h3\": \"実験1 NGINX\\nHTTP/3 /single.html\",\n",
    "}\n"
   ]
  },
  {
   "cell_type": "code",
   "execution_count": 252,
   "metadata": {},
   "outputs": [],
   "source": [
    "def analyze(\n",
    "    df: pd.DataFrame, log: str, protocol: str\n",
    ") -> tuple[pd.Series, pd.DataFrame]:\n",
    "    df = df[\n",
    "        ((df[\"protocol\"] == \"h2\") | (df[\"protocol\"] == \"h3\")) & (df[\"status\"] == 200)\n",
    "    ]\n",
    "    # print(f\"{df.size=}\")\n",
    "\n",
    "    df_groupby = df[[\"n\", \"startMili\", \"endMili\", \"baseUnixTime\"]].groupby(\"n\")\n",
    "\n",
    "    # print(f'start = {df_groupby.min()[\"baseUnixTime\"].min()}')\n",
    "    # print(f'end = {df_groupby.max()[\"baseUnixTime\"].max()}')\n",
    "\n",
    "    df_groupby_count = df_groupby.count()[\"startMili\"]\n",
    "    df_success = df_groupby_count == df_groupby_count.mode()[0]\n",
    "    # print(f\"{df_success[df_success].size=}\")\n",
    "\n",
    "    df_mins = df_groupby.min()[\"startMili\"]\n",
    "    df_maxs = df_groupby.max()[\"endMili\"]\n",
    "    duration_df = df_maxs - df_mins\n",
    "    duration_df = duration_df[df_success]\n",
    "\n",
    "    duration_df_describe = duration_df.describe()\n",
    "    duration_df_describe[\"filtered\"] = False\n",
    "    duration_df_describe[\"Path\"] = f\"{log}-{protocol}\"\n",
    "\n",
    "    df_lower_limit = duration_df_describe[\"mean\"] - duration_df_describe[\"std\"] * 3\n",
    "    df_upper_limit = duration_df_describe[\"mean\"] + duration_df_describe[\"std\"] * 3\n",
    "\n",
    "    duration_df_filtered = duration_df[\n",
    "        (df_lower_limit < duration_df) & (duration_df < df_upper_limit)\n",
    "    ]\n",
    "    duration_df_filtered = duration_df_filtered.reset_index(drop=True)\n",
    "\n",
    "    df_des = duration_df_filtered.describe()\n",
    "    df_des[\"filtered\"] = True\n",
    "    df_des[\"Path\"] = f\"{log}-{protocol}\"\n",
    "\n",
    "    return (\n",
    "        duration_df_filtered,\n",
    "        pd.DataFrame(\n",
    "            [duration_df_describe, df_des],\n",
    "            # index=[f\"{log}-{protocol}\", f\"{log}-{protocol}\"],\n",
    "        ),\n",
    "    )\n"
   ]
  },
  {
   "cell_type": "code",
   "execution_count": 253,
   "metadata": {},
   "outputs": [],
   "source": [
    "def compare(df: pd.DataFrame, descrives: pd.DataFrame, log: str):\n",
    "    h2 = pd.read_json(log + \"/h2-performances-processed.json\")\n",
    "    h3 = pd.read_json(log + \"/h3-performances-prosessed.json\")\n",
    "    print(\n",
    "        h2[\"baseUnixTime\"].max() - h2[\"baseUnixTime\"].min(),\n",
    "        h3[\"baseUnixTime\"].max() - h3[\"baseUnixTime\"].min(),\n",
    "    )\n",
    "    series_h2, result_h2 = analyze(h2, log, \"h2\")\n",
    "    descrives = pd.concat([descrives, result_h2])\n",
    "    series_h3, result_h3 = analyze(h3, log, \"h3\")\n",
    "    result = pd.concat([series_h2, series_h3], axis=1)\n",
    "    result.columns = [f\"{log}-h2\", f\"{log}-h3\"]\n",
    "    df = pd.concat([df, result], axis=1)\n",
    "    descrives = pd.concat([descrives, result_h3])\n",
    "\n",
    "    return df, descrives\n"
   ]
  },
  {
   "cell_type": "code",
   "execution_count": 254,
   "metadata": {},
   "outputs": [
    {
     "name": "stdout",
     "output_type": "stream",
     "text": [
      "1320127 1298178\n"
     ]
    },
    {
     "name": "stderr",
     "output_type": "stream",
     "text": [
      "/var/folders/bf/kn4k8swd7vq0tzxz1_jvzsr80000gq/T/ipykernel_80936/4128103056.py:14: FutureWarning: In a future version, object-dtype columns with all-bool values will not be included in reductions with bool_only=True. Explicitly cast to bool dtype instead.\n",
      "  descrives = pd.concat([descrives, result_h3])\n"
     ]
    },
    {
     "name": "stdout",
     "output_type": "stream",
     "text": [
      "2603067 2596760\n",
      "1231523 1233036\n"
     ]
    },
    {
     "name": "stderr",
     "output_type": "stream",
     "text": [
      "/var/folders/bf/kn4k8swd7vq0tzxz1_jvzsr80000gq/T/ipykernel_80936/4128103056.py:9: FutureWarning: In a future version, object-dtype columns with all-bool values will not be included in reductions with bool_only=True. Explicitly cast to bool dtype instead.\n",
      "  descrives = pd.concat([descrives, result_h2])\n",
      "/var/folders/bf/kn4k8swd7vq0tzxz1_jvzsr80000gq/T/ipykernel_80936/4128103056.py:14: FutureWarning: In a future version, object-dtype columns with all-bool values will not be included in reductions with bool_only=True. Explicitly cast to bool dtype instead.\n",
      "  descrives = pd.concat([descrives, result_h3])\n",
      "/var/folders/bf/kn4k8swd7vq0tzxz1_jvzsr80000gq/T/ipykernel_80936/4128103056.py:9: FutureWarning: In a future version, object-dtype columns with all-bool values will not be included in reductions with bool_only=True. Explicitly cast to bool dtype instead.\n",
      "  descrives = pd.concat([descrives, result_h2])\n",
      "/var/folders/bf/kn4k8swd7vq0tzxz1_jvzsr80000gq/T/ipykernel_80936/4128103056.py:14: FutureWarning: In a future version, object-dtype columns with all-bool values will not be included in reductions with bool_only=True. Explicitly cast to bool dtype instead.\n",
      "  descrives = pd.concat([descrives, result_h3])\n"
     ]
    },
    {
     "name": "stdout",
     "output_type": "stream",
     "text": [
      "2718418 2631477\n"
     ]
    },
    {
     "name": "stderr",
     "output_type": "stream",
     "text": [
      "/var/folders/bf/kn4k8swd7vq0tzxz1_jvzsr80000gq/T/ipykernel_80936/4128103056.py:9: FutureWarning: In a future version, object-dtype columns with all-bool values will not be included in reductions with bool_only=True. Explicitly cast to bool dtype instead.\n",
      "  descrives = pd.concat([descrives, result_h2])\n",
      "/var/folders/bf/kn4k8swd7vq0tzxz1_jvzsr80000gq/T/ipykernel_80936/4128103056.py:14: FutureWarning: In a future version, object-dtype columns with all-bool values will not be included in reductions with bool_only=True. Explicitly cast to bool dtype instead.\n",
      "  descrives = pd.concat([descrives, result_h3])\n"
     ]
    }
   ],
   "source": [
    "results = pd.DataFrame()\n",
    "describes = pd.DataFrame(\n",
    "    columns=[\"count\", \"mean\", \"std\", \"min\", \"25%\", \"50%\", \"75%\", \"max\"]\n",
    ")\n",
    "for log in logs:\n",
    "    (results, describes) = compare(results, describes, log)\n",
    "\n",
    "results.to_csv(\"client-time.csv\")\n",
    "describes = describes.sort_values(\"filtered\")\n",
    "describes[\"Path\"] = describes[\"Path\"].replace(names)\n",
    "describes = describes.rename(\n",
    "    columns={\n",
    "        \"Path\": \"実験\",\n",
    "        \"count\": \"リクエスト数\",\n",
    "        \"mean\": \"平均値\",\n",
    "        \"std\": \"標準偏差\",\n",
    "        \"min\": \"最小値\",\n",
    "        \"25%\": \"第1四分数\",\n",
    "        \"50%\": \"中央値\",\n",
    "        \"75%\": \"第3四分数\",\n",
    "        \"max\": \"最大\",\n",
    "    }\n",
    ")\n",
    "describes = describes.reindex(\n",
    "    columns=[\n",
    "        \"実験\",\n",
    "        \"リクエスト数\",\n",
    "        \"平均値\",\n",
    "        \"標準偏差\",\n",
    "        \"最小値\",\n",
    "        \"第1四分数\",\n",
    "        \"中央値\",\n",
    "        \"第3四分数\",\n",
    "        \"最大\",\n",
    "        \"filtered\",\n",
    "    ]\n",
    ")\n",
    "describes.to_csv(\"client-time-describe.csv\")\n",
    "\n",
    "describe_unfiltered = describes[describes[\"filtered\"] == False].drop(\n",
    "    columns=[\"filtered\"]\n",
    ")\n",
    "describe_unfiltered.to_csv(\"client-time-describe-unfiltered.csv\", index=False)\n",
    "describe_filtered = describes[describes[\"filtered\"] == True].drop(columns=[\"filtered\"])\n",
    "describe_filtered.to_csv(\"client-time-describe-filtered.csv\", index=False)\n"
   ]
  },
  {
   "cell_type": "code",
   "execution_count": 255,
   "metadata": {},
   "outputs": [],
   "source": [
    "import matplotlib\n",
    "import matplotlib as mpl\n",
    "import matplotlib.pyplot as plt\n",
    "import matplotlib.font_manager\n",
    "%matplotlib inline\n",
    "\n",
    "# print([f.name for f in matplotlib.font_manager.fontManager.ttflist])\n",
    "font = {\"family\": \"YuGothic\"}\n",
    "matplotlib.rc(\"font\", **font)\n"
   ]
  },
  {
   "cell_type": "code",
   "execution_count": 256,
   "metadata": {},
   "outputs": [
    {
     "data": {
      "text/html": [
       "<div>\n",
       "<style scoped>\n",
       "    .dataframe tbody tr th:only-of-type {\n",
       "        vertical-align: middle;\n",
       "    }\n",
       "\n",
       "    .dataframe tbody tr th {\n",
       "        vertical-align: top;\n",
       "    }\n",
       "\n",
       "    .dataframe thead th {\n",
       "        text-align: right;\n",
       "    }\n",
       "</style>\n",
       "<table border=\"1\" class=\"dataframe\">\n",
       "  <thead>\n",
       "    <tr style=\"text-align: right;\">\n",
       "      <th></th>\n",
       "      <th>実験</th>\n",
       "      <th>リクエスト数</th>\n",
       "      <th>平均値</th>\n",
       "      <th>標準偏差</th>\n",
       "      <th>最小値</th>\n",
       "      <th>第1四分数</th>\n",
       "      <th>中央値</th>\n",
       "      <th>第3四分数</th>\n",
       "      <th>最大</th>\n",
       "    </tr>\n",
       "  </thead>\n",
       "  <tbody>\n",
       "    <tr>\n",
       "      <th>0</th>\n",
       "      <td>実験1 Cloudflare\\nHTTP/2 /simple.html</td>\n",
       "      <td>1000.0</td>\n",
       "      <td>110.88100</td>\n",
       "      <td>25.448939</td>\n",
       "      <td>83.0</td>\n",
       "      <td>99.0</td>\n",
       "      <td>105.0</td>\n",
       "      <td>116.00</td>\n",
       "      <td>592.0</td>\n",
       "    </tr>\n",
       "    <tr>\n",
       "      <th>0</th>\n",
       "      <td>実験1 Cloudflare\\nHTTP/3 /simple.html</td>\n",
       "      <td>1000.0</td>\n",
       "      <td>87.28200</td>\n",
       "      <td>16.988263</td>\n",
       "      <td>65.0</td>\n",
       "      <td>78.0</td>\n",
       "      <td>83.0</td>\n",
       "      <td>92.25</td>\n",
       "      <td>335.0</td>\n",
       "    </tr>\n",
       "    <tr>\n",
       "      <th>0</th>\n",
       "      <td>実験1 Cloudflare\\nHTTP/2 /single.html</td>\n",
       "      <td>1000.0</td>\n",
       "      <td>1418.94600</td>\n",
       "      <td>12.940345</td>\n",
       "      <td>1390.0</td>\n",
       "      <td>1409.0</td>\n",
       "      <td>1417.0</td>\n",
       "      <td>1426.00</td>\n",
       "      <td>1478.0</td>\n",
       "    </tr>\n",
       "    <tr>\n",
       "      <th>0</th>\n",
       "      <td>実験1 Cloudflare\\nHTTP/3 /single.html</td>\n",
       "      <td>1000.0</td>\n",
       "      <td>1416.23900</td>\n",
       "      <td>12.567809</td>\n",
       "      <td>1385.0</td>\n",
       "      <td>1407.0</td>\n",
       "      <td>1415.0</td>\n",
       "      <td>1423.25</td>\n",
       "      <td>1452.0</td>\n",
       "    </tr>\n",
       "    <tr>\n",
       "      <th>0</th>\n",
       "      <td>実験1 NGINX\\nHTTP/2 /simple.html</td>\n",
       "      <td>1000.0</td>\n",
       "      <td>38.53300</td>\n",
       "      <td>1.884267</td>\n",
       "      <td>31.0</td>\n",
       "      <td>38.0</td>\n",
       "      <td>39.0</td>\n",
       "      <td>40.00</td>\n",
       "      <td>43.0</td>\n",
       "    </tr>\n",
       "    <tr>\n",
       "      <th>0</th>\n",
       "      <td>実験1 NGINX\\nHTTP/3 /simple.html</td>\n",
       "      <td>1000.0</td>\n",
       "      <td>39.91600</td>\n",
       "      <td>1.891169</td>\n",
       "      <td>33.0</td>\n",
       "      <td>39.0</td>\n",
       "      <td>40.0</td>\n",
       "      <td>41.00</td>\n",
       "      <td>44.0</td>\n",
       "    </tr>\n",
       "    <tr>\n",
       "      <th>0</th>\n",
       "      <td>実験1 NGINX\\nHTTP/2 /single.html</td>\n",
       "      <td>1000.0</td>\n",
       "      <td>1533.72400</td>\n",
       "      <td>44.745637</td>\n",
       "      <td>1429.0</td>\n",
       "      <td>1500.0</td>\n",
       "      <td>1531.0</td>\n",
       "      <td>1565.25</td>\n",
       "      <td>1654.0</td>\n",
       "    </tr>\n",
       "    <tr>\n",
       "      <th>0</th>\n",
       "      <td>実験1 NGINX\\nHTTP/3 /single.html</td>\n",
       "      <td>999.0</td>\n",
       "      <td>1436.11011</td>\n",
       "      <td>2.705648</td>\n",
       "      <td>1425.0</td>\n",
       "      <td>1435.0</td>\n",
       "      <td>1436.0</td>\n",
       "      <td>1438.00</td>\n",
       "      <td>1444.0</td>\n",
       "    </tr>\n",
       "  </tbody>\n",
       "</table>\n",
       "</div>"
      ],
      "text/plain": [
       "                                    実験  リクエスト数         平均値       標準偏差     最小値   第1四分数     中央値    第3四分数      最大\n",
       "0  実験1 Cloudflare\\nHTTP/2 /simple.html  1000.0   110.88100  25.448939    83.0    99.0   105.0   116.00   592.0\n",
       "0  実験1 Cloudflare\\nHTTP/3 /simple.html  1000.0    87.28200  16.988263    65.0    78.0    83.0    92.25   335.0\n",
       "0  実験1 Cloudflare\\nHTTP/2 /single.html  1000.0  1418.94600  12.940345  1390.0  1409.0  1417.0  1426.00  1478.0\n",
       "0  実験1 Cloudflare\\nHTTP/3 /single.html  1000.0  1416.23900  12.567809  1385.0  1407.0  1415.0  1423.25  1452.0\n",
       "0       実験1 NGINX\\nHTTP/2 /simple.html  1000.0    38.53300   1.884267    31.0    38.0    39.0    40.00    43.0\n",
       "0       実験1 NGINX\\nHTTP/3 /simple.html  1000.0    39.91600   1.891169    33.0    39.0    40.0    41.00    44.0\n",
       "0       実験1 NGINX\\nHTTP/2 /single.html  1000.0  1533.72400  44.745637  1429.0  1500.0  1531.0  1565.25  1654.0\n",
       "0       実験1 NGINX\\nHTTP/3 /single.html   999.0  1436.11011   2.705648  1425.0  1435.0  1436.0  1438.00  1444.0"
      ]
     },
     "execution_count": 256,
     "metadata": {},
     "output_type": "execute_result"
    }
   ],
   "source": [
    "describe_unfiltered"
   ]
  },
  {
   "cell_type": "code",
   "execution_count": 257,
   "metadata": {},
   "outputs": [
    {
     "data": {
      "text/html": [
       "<div>\n",
       "<style scoped>\n",
       "    .dataframe tbody tr th:only-of-type {\n",
       "        vertical-align: middle;\n",
       "    }\n",
       "\n",
       "    .dataframe tbody tr th {\n",
       "        vertical-align: top;\n",
       "    }\n",
       "\n",
       "    .dataframe thead th {\n",
       "        text-align: right;\n",
       "    }\n",
       "</style>\n",
       "<table border=\"1\" class=\"dataframe\">\n",
       "  <thead>\n",
       "    <tr style=\"text-align: right;\">\n",
       "      <th></th>\n",
       "      <th>実験</th>\n",
       "      <th>リクエスト数</th>\n",
       "      <th>平均値</th>\n",
       "      <th>標準偏差</th>\n",
       "      <th>最小値</th>\n",
       "      <th>第1四分数</th>\n",
       "      <th>中央値</th>\n",
       "      <th>第3四分数</th>\n",
       "      <th>最大</th>\n",
       "    </tr>\n",
       "  </thead>\n",
       "  <tbody>\n",
       "    <tr>\n",
       "      <th>1</th>\n",
       "      <td>実験1 Cloudflare\\nHTTP/2 /simple.html</td>\n",
       "      <td>986.0</td>\n",
       "      <td>109.007099</td>\n",
       "      <td>15.843298</td>\n",
       "      <td>83.0</td>\n",
       "      <td>99.0</td>\n",
       "      <td>104.0</td>\n",
       "      <td>115.00</td>\n",
       "      <td>186.0</td>\n",
       "    </tr>\n",
       "    <tr>\n",
       "      <th>1</th>\n",
       "      <td>実験1 Cloudflare\\nHTTP/3 /simple.html</td>\n",
       "      <td>990.0</td>\n",
       "      <td>86.239394</td>\n",
       "      <td>12.133162</td>\n",
       "      <td>65.0</td>\n",
       "      <td>78.0</td>\n",
       "      <td>83.0</td>\n",
       "      <td>92.00</td>\n",
       "      <td>138.0</td>\n",
       "    </tr>\n",
       "    <tr>\n",
       "      <th>1</th>\n",
       "      <td>実験1 Cloudflare\\nHTTP/2 /single.html</td>\n",
       "      <td>986.0</td>\n",
       "      <td>1418.254564</td>\n",
       "      <td>11.620615</td>\n",
       "      <td>1390.0</td>\n",
       "      <td>1409.0</td>\n",
       "      <td>1416.0</td>\n",
       "      <td>1426.00</td>\n",
       "      <td>1457.0</td>\n",
       "    </tr>\n",
       "    <tr>\n",
       "      <th>1</th>\n",
       "      <td>実験1 Cloudflare\\nHTTP/3 /single.html</td>\n",
       "      <td>1000.0</td>\n",
       "      <td>1416.239000</td>\n",
       "      <td>12.567809</td>\n",
       "      <td>1385.0</td>\n",
       "      <td>1407.0</td>\n",
       "      <td>1415.0</td>\n",
       "      <td>1423.25</td>\n",
       "      <td>1452.0</td>\n",
       "    </tr>\n",
       "    <tr>\n",
       "      <th>1</th>\n",
       "      <td>実験1 NGINX\\nHTTP/2 /simple.html</td>\n",
       "      <td>996.0</td>\n",
       "      <td>38.560241</td>\n",
       "      <td>1.838009</td>\n",
       "      <td>33.0</td>\n",
       "      <td>38.0</td>\n",
       "      <td>39.0</td>\n",
       "      <td>40.00</td>\n",
       "      <td>43.0</td>\n",
       "    </tr>\n",
       "    <tr>\n",
       "      <th>1</th>\n",
       "      <td>実験1 NGINX\\nHTTP/3 /simple.html</td>\n",
       "      <td>990.0</td>\n",
       "      <td>39.978788</td>\n",
       "      <td>1.793301</td>\n",
       "      <td>35.0</td>\n",
       "      <td>39.0</td>\n",
       "      <td>40.0</td>\n",
       "      <td>41.00</td>\n",
       "      <td>44.0</td>\n",
       "    </tr>\n",
       "    <tr>\n",
       "      <th>1</th>\n",
       "      <td>実験1 NGINX\\nHTTP/2 /single.html</td>\n",
       "      <td>1000.0</td>\n",
       "      <td>1533.724000</td>\n",
       "      <td>44.745637</td>\n",
       "      <td>1429.0</td>\n",
       "      <td>1500.0</td>\n",
       "      <td>1531.0</td>\n",
       "      <td>1565.25</td>\n",
       "      <td>1654.0</td>\n",
       "    </tr>\n",
       "    <tr>\n",
       "      <th>1</th>\n",
       "      <td>実験1 NGINX\\nHTTP/3 /single.html</td>\n",
       "      <td>995.0</td>\n",
       "      <td>1436.151759</td>\n",
       "      <td>2.629749</td>\n",
       "      <td>1428.0</td>\n",
       "      <td>1435.0</td>\n",
       "      <td>1436.0</td>\n",
       "      <td>1438.00</td>\n",
       "      <td>1444.0</td>\n",
       "    </tr>\n",
       "  </tbody>\n",
       "</table>\n",
       "</div>"
      ],
      "text/plain": [
       "                                    実験  リクエスト数          平均値       標準偏差     最小値   第1四分数     中央値    第3四分数      最大\n",
       "1  実験1 Cloudflare\\nHTTP/2 /simple.html   986.0   109.007099  15.843298    83.0    99.0   104.0   115.00   186.0\n",
       "1  実験1 Cloudflare\\nHTTP/3 /simple.html   990.0    86.239394  12.133162    65.0    78.0    83.0    92.00   138.0\n",
       "1  実験1 Cloudflare\\nHTTP/2 /single.html   986.0  1418.254564  11.620615  1390.0  1409.0  1416.0  1426.00  1457.0\n",
       "1  実験1 Cloudflare\\nHTTP/3 /single.html  1000.0  1416.239000  12.567809  1385.0  1407.0  1415.0  1423.25  1452.0\n",
       "1       実験1 NGINX\\nHTTP/2 /simple.html   996.0    38.560241   1.838009    33.0    38.0    39.0    40.00    43.0\n",
       "1       実験1 NGINX\\nHTTP/3 /simple.html   990.0    39.978788   1.793301    35.0    39.0    40.0    41.00    44.0\n",
       "1       実験1 NGINX\\nHTTP/2 /single.html  1000.0  1533.724000  44.745637  1429.0  1500.0  1531.0  1565.25  1654.0\n",
       "1       実験1 NGINX\\nHTTP/3 /single.html   995.0  1436.151759   2.629749  1428.0  1435.0  1436.0  1438.00  1444.0"
      ]
     },
     "execution_count": 257,
     "metadata": {},
     "output_type": "execute_result"
    }
   ],
   "source": [
    "describe_filtered"
   ]
  },
  {
   "cell_type": "code",
   "execution_count": 258,
   "metadata": {},
   "outputs": [
    {
     "data": {
      "text/plain": [
       "(1400.0, 1600.0)"
      ]
     },
     "execution_count": 258,
     "metadata": {},
     "output_type": "execute_result"
    },
    {
     "data": {
      "image/png": "[encoded data removed]",
      "text/plain": [
       "<Figure size 500x600 with 2 Axes>"
      ]
     },
     "metadata": {},
     "output_type": "display_data"
    }
   ],
   "source": [
    "fig, axes = plt.subplots(nrows=2, ncols=1, figsize=(5, 6))\n",
    "plt.subplots_adjust(wspace=0.3, hspace=0.4)\n",
    "\n",
    "ploted = results[\n",
    "    [\n",
    "        \"../log-simple-cloudflare-h2\",\n",
    "        \"../log-simple-client1-h2\",\n",
    "        \"../log-simple-cloudflare-h3\",\n",
    "        \"../log-simple-client1-h3\",\n",
    "    ]\n",
    "].copy()\n",
    "ploted.columns = [\n",
    "    \"Cloudflare\\nHTTP/2\\n/simple.html\",\n",
    "    \"NGINX\\nHTTP/2\\n/simple.html\",\n",
    "    \"Cloudflare\\nHTTP/3\\n/simple.html\",\n",
    "    \"NGINX\\nHTTP/3\\n/simple.html\",\n",
    "]\n",
    "ploted = ploted.plot.box(ax=axes[0], showmeans=True, ylabel=\"通信時間(ms)\", whis=[0, 100])\n",
    "ploted.grid(which=\"major\", axis=\"y\")\n",
    "# ploted.set_yticks([0, 50, 100, 150])\n",
    "ploted.set_ylim(0, 150)\n",
    "\n",
    "ploted = results[\n",
    "    [\n",
    "        \"../log-single-cloudflare-h2\",\n",
    "        \"../log-single-client1-h2\",\n",
    "        \"../log-single-cloudflare-h3\",\n",
    "        \"../log-single-client1-h3\",\n",
    "    ]\n",
    "].copy()\n",
    "ploted.columns = [\n",
    "    \"Cloudflare\\nHTTP/2\\n/single.html\",\n",
    "    \"NGINX\\nHTTP/2\\n/single.html\",\n",
    "    \"Cloudflare\\nHTTP/3\\n/single.html\",\n",
    "    \"NGINX\\nHTTP/3\\n/single.html\",\n",
    "]\n",
    "ploted = ploted.plot.box(ax=axes[1], showmeans=True, ylabel=\"通信時間(ms)\", whis=[0, 100])\n",
    "ploted.grid(which=\"major\", axis=\"y\")\n",
    "# ploted.set_yticks([1400, 1500, 1600])\n",
    "ploted.set_ylim(1400, 1600)\n"
   ]
  },
  {
   "cell_type": "code",
   "execution_count": 259,
   "metadata": {},
   "outputs": [],
   "source": [
    "from scipy.stats import f\n",
    "from scipy import stats\n",
    "import numpy as np\n",
    "\n",
    "\n",
    "def ftest(a, b):\n",
    "    # 　統計量Fの計算\n",
    "    v1 = np.var(a, ddof=1)\n",
    "    v2 = np.var(b, ddof=1)\n",
    "    n1 = len(a)\n",
    "    n2 = len(b)\n",
    "    f_value = v1 / v2\n",
    "\n",
    "    # 帰無仮説が正しい場合にFが従う確率分を生成\n",
    "    f_frozen = f.freeze(dfn=n1 - 1, dfd=n2 - 1)\n",
    "\n",
    "    # 右側\n",
    "    p1 = f_frozen.sf(f_value)\n",
    "    # 左側\n",
    "    p2 = f_frozen.cdf(f_value)\n",
    "    # 小さい方の2倍がp値\n",
    "    p_value = min(p1, p2) * 2\n",
    "\n",
    "    # 統計量Fとp値を返す\n",
    "    return f_value, p_value\n",
    "\n",
    "\n",
    "def t_test(a, b):\n",
    "    a = a.dropna()\n",
    "    b = b.dropna()\n",
    "    print(\n",
    "        a.mean(),\n",
    "        a.std(),\n",
    "        b.mean(),\n",
    "        b.std(),\n",
    "    )\n",
    "    f = ftest(\n",
    "        a,\n",
    "        b,\n",
    "    )\n",
    "    toubunsanse = (\n",
    "        ftest(\n",
    "            a,\n",
    "            b,\n",
    "        )[1]\n",
    "        > 0.0005\n",
    "    )\n",
    "    print(f\"{f=}\")\n",
    "    print(f\"{toubunsanse=}\")\n",
    "    print(\n",
    "        stats.shapiro(a)[1],\n",
    "        stats.shapiro(b)[1],\n",
    "    )\n",
    "    print(\n",
    "        stats.ttest_ind(\n",
    "            a,\n",
    "            b,\n",
    "            equal_var=toubunsanse,\n",
    "        )\n",
    "    )\n"
   ]
  },
  {
   "cell_type": "code",
   "execution_count": 260,
   "metadata": {},
   "outputs": [
    {
     "name": "stdout",
     "output_type": "stream",
     "text": [
      "109.00709939148074 15.843298325529814 86.23939393939393 12.133161722468836\n",
      "f=(1.7050739810162703, 7.913006993298852e-17)\n",
      "toubunsanse=False\n",
      "1.2285488307336564e-30 1.253092359175318e-25\n",
      "Ttest_indResult(statistic=35.85244216543575, pvalue=4.531219124911268e-214)\n"
     ]
    },
    {
     "data": {
      "text/plain": [
       "<AxesSubplot: ylabel='Frequency'>"
      ]
     },
     "execution_count": 260,
     "metadata": {},
     "output_type": "execute_result"
    },
    {
     "data": {
      "image/png": "[encoded data removed]",
      "text/plain": [
       "<Figure size 640x480 with 1 Axes>"
      ]
     },
     "metadata": {},
     "output_type": "display_data"
    }
   ],
   "source": [
    "t_test(results[\"../log-simple-cloudflare-h2\"], results[\"../log-simple-cloudflare-h3\"])\n",
    "results[\"../log-simple-cloudflare-h2\"].plot.hist()\n",
    "results[\"../log-simple-cloudflare-h3\"].plot.hist()\n"
   ]
  },
  {
   "cell_type": "code",
   "execution_count": 261,
   "metadata": {},
   "outputs": [
    {
     "name": "stdout",
     "output_type": "stream",
     "text": [
      "1418.2545638945232 11.620614645253339 1416.239 12.56780922948901\n",
      "f=(0.8549466988015437, 0.013685208968103253)\n",
      "toubunsanse=True\n",
      "9.37621511600548e-15 6.402516294912175e-10\n",
      "Ttest_indResult(statistic=3.709499501536467, pvalue=0.00021337995114209814)\n"
     ]
    },
    {
     "data": {
      "text/plain": [
       "<AxesSubplot: ylabel='Frequency'>"
      ]
     },
     "execution_count": 261,
     "metadata": {},
     "output_type": "execute_result"
    },
    {
     "data": {
      "image/png": "[encoded data removed]",
      "text/plain": [
       "<Figure size 640x480 with 1 Axes>"
      ]
     },
     "metadata": {},
     "output_type": "display_data"
    }
   ],
   "source": [
    "t_test(results[\"../log-single-cloudflare-h2\"], results[\"../log-single-cloudflare-h3\"])\n",
    "results[\"../log-single-cloudflare-h2\"].plot.hist()\n",
    "results[\"../log-single-cloudflare-h3\"].plot.hist()\n"
   ]
  },
  {
   "cell_type": "code",
   "execution_count": 262,
   "metadata": {},
   "outputs": [
    {
     "name": "stdout",
     "output_type": "stream",
     "text": [
      "38.56024096385542 1.8380089572150367 39.97878787878788 1.7933013614440547\n",
      "f=(1.050482182543534, 0.4381877938705325)\n",
      "toubunsanse=True\n",
      "1.3180989042932422e-26 2.33280645271464e-24\n",
      "Ttest_indResult(statistic=-17.40679844857605, pvalue=2.887630883840195e-63)\n"
     ]
    },
    {
     "data": {
      "text/plain": [
       "<AxesSubplot: ylabel='Frequency'>"
      ]
     },
     "execution_count": 262,
     "metadata": {},
     "output_type": "execute_result"
    },
    {
     "data": {
      "image/png": "[encoded data removed]",
      "text/plain": [
       "<Figure size 640x480 with 1 Axes>"
      ]
     },
     "metadata": {},
     "output_type": "display_data"
    }
   ],
   "source": [
    "t_test(results[\"../log-simple-client1-h2\"], results[\"../log-simple-client1-h3\"])\n",
    "results[\"../log-simple-client1-h2\"].plot.hist()\n",
    "results[\"../log-simple-client1-h3\"].plot.hist()"
   ]
  },
  {
   "cell_type": "code",
   "execution_count": 263,
   "metadata": {},
   "outputs": [
    {
     "name": "stdout",
     "output_type": "stream",
     "text": [
      "1533.724 44.74563661404314 1436.1517587939697 2.629748636171753\n",
      "f=(289.51622380700917, 0.0)\n",
      "toubunsanse=False\n",
      "0.00013649034372065216 1.5627736192798392e-13\n",
      "Ttest_indResult(statistic=68.83718321959758, pvalue=0.0)\n"
     ]
    },
    {
     "data": {
      "text/plain": [
       "<AxesSubplot: ylabel='Frequency'>"
      ]
     },
     "execution_count": 263,
     "metadata": {},
     "output_type": "execute_result"
    },
    {
     "data": {
      "image/png": "[encoded data removed]",
      "text/plain": [
       "<Figure size 640x480 with 1 Axes>"
      ]
     },
     "metadata": {},
     "output_type": "display_data"
    }
   ],
   "source": [
    "t_test(results[\"../log-single-client1-h2\"], results[\"../log-single-client1-h3\"])\n",
    "results[\"../log-single-client1-h2\"].plot.hist()\n",
    "results[\"../log-single-client1-h3\"].plot.hist()"
   ]
  },
  {
   "cell_type": "code",
   "execution_count": null,
   "metadata": {},
   "outputs": [],
   "source": []
  }
 ],
 "metadata": {
  "kernelspec": {
   "display_name": "shims",
   "language": "python",
   "name": "python3"
  },
  "language_info": {
   "codemirror_mode": {
    "name": "ipython",
    "version": 3
   },
   "file_extension": ".py",
   "mimetype": "text/x-python",
   "name": "python",
   "nbconvert_exporter": "python",
   "pygments_lexer": "ipython3",
   "version": "3.9.15"
  },
  "orig_nbformat": 4,
  "vscode": {
   "interpreter": {
    "hash": "a66e5b2b428b4b356d140666341c5d01c5029778eb4aa6280fd1d4aaca0d9922"
   }
  }
 },
 "nbformat": 4,
 "nbformat_minor": 2
}

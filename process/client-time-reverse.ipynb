{
 "cells": [
  {
   "cell_type": "code",
   "execution_count": 21,
   "metadata": {},
   "outputs": [],
   "source": [
    "import numpy as np\n",
    "import pandas as pd\n",
    "\n",
    "pd.set_option(\"display.width\", 1000)"
   ]
  },
  {
   "cell_type": "code",
   "execution_count": 22,
   "metadata": {},
   "outputs": [],
   "source": [
    "logs = [\n",
    "    \"../log-simple-reverse1\",\n",
    "    \"../log-single-reverse1\",\n",
    "]\n"
   ]
  },
  {
   "cell_type": "code",
   "execution_count": 23,
   "metadata": {},
   "outputs": [],
   "source": [
    "names = {\n",
    "    \"../log-simple-reverse1\": \"NGINX\\nHTTP/2 /simple.html\",\n",
    "    \"../log-single-reverse1\": \"NGINX\\nHTTP/3 /single.html\",\n",
    "}\n"
   ]
  },
  {
   "cell_type": "code",
   "execution_count": 24,
   "metadata": {},
   "outputs": [],
   "source": [
    "def analyze(\n",
    "    df: pd.DataFrame, log: str, protocol: str\n",
    ") -> tuple[pd.Series, pd.DataFrame]:\n",
    "    df = df[\n",
    "        ((df[\"protocol\"] == \"h2\") | (df[\"protocol\"] == \"h3\")) & (df[\"status\"] == 200)\n",
    "    ]\n",
    "    # print(f\"{df.size=}\")\n",
    "\n",
    "    df_groupby = df[[\"n\", \"startMili\", \"endMili\", \"baseUnixTime\"]].groupby(\"n\")\n",
    "\n",
    "    # print(f'start = {df_groupby.min()[\"baseUnixTime\"].min()}')\n",
    "    # print(f'end = {df_groupby.max()[\"baseUnixTime\"].max()}')\n",
    "\n",
    "    df_groupby_count = df_groupby.count()[\"startMili\"]\n",
    "    df_success = df_groupby_count == df_groupby_count.mode()[0]\n",
    "    # print(f\"{df_success[df_success].size=}\")\n",
    "\n",
    "    df_mins = df_groupby.min()[\"startMili\"]\n",
    "    df_maxs = df_groupby.max()[\"endMili\"]\n",
    "    duration_df = df_maxs - df_mins\n",
    "    duration_df = duration_df[df_success]\n",
    "\n",
    "    duration_df_describe = duration_df.describe()\n",
    "    duration_df_describe[\"filtered\"] = False\n",
    "    duration_df_describe[\"Path\"] = f\"{log}-{protocol}\"\n",
    "\n",
    "    df_lower_limit = duration_df_describe[\"mean\"] - duration_df_describe[\"std\"] * 3\n",
    "    df_upper_limit = duration_df_describe[\"mean\"] + duration_df_describe[\"std\"] * 3\n",
    "\n",
    "    duration_df_filtered = duration_df[\n",
    "        (df_lower_limit < duration_df) & (duration_df < df_upper_limit)\n",
    "    ]\n",
    "    duration_df_filtered = duration_df_filtered.reset_index(drop=True)\n",
    "\n",
    "    df_des = duration_df_filtered.describe()\n",
    "    df_des[\"filtered\"] = True\n",
    "    df_des[\"Path\"] = f\"{log}-{protocol}\"\n",
    "\n",
    "    return (\n",
    "        duration_df_filtered,\n",
    "        pd.DataFrame(\n",
    "            [duration_df_describe, df_des],\n",
    "            # index=[f\"{log}-{protocol}\", f\"{log}-{protocol}\"],\n",
    "        ),\n",
    "    )\n"
   ]
  },
  {
   "cell_type": "code",
   "execution_count": 25,
   "metadata": {},
   "outputs": [],
   "source": [
    "def compare(df: pd.DataFrame, descrives: pd.DataFrame, log: str):\n",
    "    h2 = pd.read_json(log + \"/h2-performances-processed.json\")\n",
    "    h3 = pd.read_json(log + \"/h3-performances-prosessed.json\")\n",
    "    # print()\n",
    "    # print(log)\n",
    "    # print(\"h2\")\n",
    "    series_h2, result_h2 = analyze(h2, log, \"h2\")\n",
    "    df[f\"{log}-h2\"] = series_h2\n",
    "    descrives = pd.concat([descrives, result_h2])\n",
    "    # print(result_h2)\n",
    "    # print(\"h3\")\n",
    "    series_h3, result_h3 = analyze(h3, log, \"h3\")\n",
    "    df[f\"{log}-h3\"] = series_h3\n",
    "    descrives = pd.concat([descrives, result_h3])\n",
    "    # print(result_h3)\n",
    "    return df, descrives\n"
   ]
  },
  {
   "cell_type": "code",
   "execution_count": 26,
   "metadata": {},
   "outputs": [
    {
     "name": "stderr",
     "output_type": "stream",
     "text": [
      "/var/folders/bf/kn4k8swd7vq0tzxz1_jvzsr80000gq/T/ipykernel_18278/2709141471.py:14: FutureWarning: In a future version, object-dtype columns with all-bool values will not be included in reductions with bool_only=True. Explicitly cast to bool dtype instead.\n",
      "  descrives = pd.concat([descrives, result_h3])\n"
     ]
    },
    {
     "name": "stdout",
     "output_type": "stream",
     "text": [
      "../log-simple-reverse1-h2    998\n",
      "../log-simple-reverse1-h3    994\n",
      "../log-single-reverse1-h2    998\n",
      "../log-single-reverse1-h3    992\n",
      "dtype: int64\n"
     ]
    },
    {
     "name": "stderr",
     "output_type": "stream",
     "text": [
      "/var/folders/bf/kn4k8swd7vq0tzxz1_jvzsr80000gq/T/ipykernel_18278/2709141471.py:9: FutureWarning: In a future version, object-dtype columns with all-bool values will not be included in reductions with bool_only=True. Explicitly cast to bool dtype instead.\n",
      "  descrives = pd.concat([descrives, result_h2])\n",
      "/var/folders/bf/kn4k8swd7vq0tzxz1_jvzsr80000gq/T/ipykernel_18278/2709141471.py:14: FutureWarning: In a future version, object-dtype columns with all-bool values will not be included in reductions with bool_only=True. Explicitly cast to bool dtype instead.\n",
      "  descrives = pd.concat([descrives, result_h3])\n"
     ]
    }
   ],
   "source": [
    "results = pd.DataFrame()\n",
    "describes = pd.DataFrame(\n",
    "    columns=[\"count\", \"mean\", \"std\", \"min\", \"25%\", \"50%\", \"75%\", \"max\"]\n",
    ")\n",
    "for log in logs:\n",
    "    (results, describes) = compare(results, describes, log)\n",
    "print(results.count())\n",
    "results.to_csv(\"client-time.csv\")\n",
    "describes = describes.sort_values(\"filtered\")\n",
    "describes[\"Path\"] = describes[\"Path\"].replace(names)\n",
    "describes = describes.rename(\n",
    "    columns={\n",
    "        \"Path\": \"実験\",\n",
    "        \"count\": \"リクエスト数\",\n",
    "        \"mean\": \"平均値\",\n",
    "        \"std\": \"標準偏差\",\n",
    "        \"min\": \"最小値\",\n",
    "        \"25%\": \"第1四分数\",\n",
    "        \"50%\": \"中央値\",\n",
    "        \"75%\": \"第3四分数\",\n",
    "        \"max\": \"最大\",\n",
    "    }\n",
    ")\n",
    "describes = describes.reindex(\n",
    "    columns=[\n",
    "        \"実験\",\n",
    "        \"リクエスト数\",\n",
    "        \"平均値\",\n",
    "        \"標準偏差\",\n",
    "        \"最小値\",\n",
    "        \"第1四分数\",\n",
    "        \"中央値\",\n",
    "        \"第3四分数\",\n",
    "        \"最大\",\n",
    "        \"filtered\",\n",
    "    ]\n",
    ")\n",
    "describes.to_csv(\"client-time-describe.csv\")\n",
    "\n",
    "describe_unfiltered = describes[describes[\"filtered\"] == False].drop(\n",
    "    columns=[\"filtered\"]\n",
    ")\n",
    "describe_unfiltered.to_csv(\"client-time-describe-unfiltered.csv\", index=False)\n",
    "describe_filtered = describes[describes[\"filtered\"] == True].drop(columns=[\"filtered\"])\n",
    "describe_filtered.to_csv(\"client-time-describe-filtered.csv\", index=False)\n"
   ]
  },
  {
   "cell_type": "code",
   "execution_count": 27,
   "metadata": {},
   "outputs": [],
   "source": [
    "import matplotlib\n",
    "import matplotlib as mpl\n",
    "import matplotlib.pyplot as plt\n",
    "import matplotlib.font_manager\n",
    "\n",
    "# print([f.name for f in matplotlib.font_manager.fontManager.ttflist])\n",
    "font = {\"family\": \"YuGothic\"}\n",
    "matplotlib.rc(\"font\", **font)\n"
   ]
  },
  {
   "cell_type": "code",
   "execution_count": 28,
   "metadata": {},
   "outputs": [
    {
     "data": {
      "text/html": [
       "<div>\n",
       "<style scoped>\n",
       "    .dataframe tbody tr th:only-of-type {\n",
       "        vertical-align: middle;\n",
       "    }\n",
       "\n",
       "    .dataframe tbody tr th {\n",
       "        vertical-align: top;\n",
       "    }\n",
       "\n",
       "    .dataframe thead th {\n",
       "        text-align: right;\n",
       "    }\n",
       "</style>\n",
       "<table border=\"1\" class=\"dataframe\">\n",
       "  <thead>\n",
       "    <tr style=\"text-align: right;\">\n",
       "      <th></th>\n",
       "      <th>実験</th>\n",
       "      <th>リクエスト数</th>\n",
       "      <th>平均値</th>\n",
       "      <th>標準偏差</th>\n",
       "      <th>最小値</th>\n",
       "      <th>第1四分数</th>\n",
       "      <th>中央値</th>\n",
       "      <th>第3四分数</th>\n",
       "      <th>最大</th>\n",
       "    </tr>\n",
       "  </thead>\n",
       "  <tbody>\n",
       "    <tr>\n",
       "      <th>0</th>\n",
       "      <td>../log-simple-reverse1-h2</td>\n",
       "      <td>1000.0</td>\n",
       "      <td>38.467000</td>\n",
       "      <td>1.875748</td>\n",
       "      <td>32.0</td>\n",
       "      <td>38.0</td>\n",
       "      <td>39.0</td>\n",
       "      <td>40.0</td>\n",
       "      <td>43.0</td>\n",
       "    </tr>\n",
       "    <tr>\n",
       "      <th>0</th>\n",
       "      <td>../log-simple-reverse1-h3</td>\n",
       "      <td>999.0</td>\n",
       "      <td>39.844845</td>\n",
       "      <td>1.991201</td>\n",
       "      <td>33.0</td>\n",
       "      <td>39.0</td>\n",
       "      <td>40.0</td>\n",
       "      <td>41.0</td>\n",
       "      <td>44.0</td>\n",
       "    </tr>\n",
       "    <tr>\n",
       "      <th>0</th>\n",
       "      <td>../log-single-reverse1-h2</td>\n",
       "      <td>1000.0</td>\n",
       "      <td>1501.983000</td>\n",
       "      <td>38.710945</td>\n",
       "      <td>1428.0</td>\n",
       "      <td>1475.0</td>\n",
       "      <td>1505.0</td>\n",
       "      <td>1530.0</td>\n",
       "      <td>1627.0</td>\n",
       "    </tr>\n",
       "    <tr>\n",
       "      <th>0</th>\n",
       "      <td>../log-single-reverse1-h3</td>\n",
       "      <td>1000.0</td>\n",
       "      <td>1436.136000</td>\n",
       "      <td>2.956390</td>\n",
       "      <td>1425.0</td>\n",
       "      <td>1435.0</td>\n",
       "      <td>1436.0</td>\n",
       "      <td>1438.0</td>\n",
       "      <td>1444.0</td>\n",
       "    </tr>\n",
       "  </tbody>\n",
       "</table>\n",
       "</div>"
      ],
      "text/plain": [
       "                          実験  リクエスト数          平均値       標準偏差     最小値   第1四分数     中央値   第3四分数      最大\n",
       "0  ../log-simple-reverse1-h2  1000.0    38.467000   1.875748    32.0    38.0    39.0    40.0    43.0\n",
       "0  ../log-simple-reverse1-h3   999.0    39.844845   1.991201    33.0    39.0    40.0    41.0    44.0\n",
       "0  ../log-single-reverse1-h2  1000.0  1501.983000  38.710945  1428.0  1475.0  1505.0  1530.0  1627.0\n",
       "0  ../log-single-reverse1-h3  1000.0  1436.136000   2.956390  1425.0  1435.0  1436.0  1438.0  1444.0"
      ]
     },
     "execution_count": 28,
     "metadata": {},
     "output_type": "execute_result"
    }
   ],
   "source": [
    "describe_unfiltered"
   ]
  },
  {
   "cell_type": "code",
   "execution_count": 29,
   "metadata": {},
   "outputs": [
    {
     "data": {
      "text/html": [
       "<div>\n",
       "<style scoped>\n",
       "    .dataframe tbody tr th:only-of-type {\n",
       "        vertical-align: middle;\n",
       "    }\n",
       "\n",
       "    .dataframe tbody tr th {\n",
       "        vertical-align: top;\n",
       "    }\n",
       "\n",
       "    .dataframe thead th {\n",
       "        text-align: right;\n",
       "    }\n",
       "</style>\n",
       "<table border=\"1\" class=\"dataframe\">\n",
       "  <thead>\n",
       "    <tr style=\"text-align: right;\">\n",
       "      <th></th>\n",
       "      <th>実験</th>\n",
       "      <th>リクエスト数</th>\n",
       "      <th>平均値</th>\n",
       "      <th>標準偏差</th>\n",
       "      <th>最小値</th>\n",
       "      <th>第1四分数</th>\n",
       "      <th>中央値</th>\n",
       "      <th>第3四分数</th>\n",
       "      <th>最大</th>\n",
       "    </tr>\n",
       "  </thead>\n",
       "  <tbody>\n",
       "    <tr>\n",
       "      <th>1</th>\n",
       "      <td>../log-simple-reverse1-h2</td>\n",
       "      <td>998.0</td>\n",
       "      <td>38.479960</td>\n",
       "      <td>1.855107</td>\n",
       "      <td>33.0</td>\n",
       "      <td>38.0</td>\n",
       "      <td>39.0</td>\n",
       "      <td>40.0</td>\n",
       "      <td>43.0</td>\n",
       "    </tr>\n",
       "    <tr>\n",
       "      <th>1</th>\n",
       "      <td>../log-simple-reverse1-h3</td>\n",
       "      <td>994.0</td>\n",
       "      <td>39.879276</td>\n",
       "      <td>1.935910</td>\n",
       "      <td>34.0</td>\n",
       "      <td>39.0</td>\n",
       "      <td>40.0</td>\n",
       "      <td>41.0</td>\n",
       "      <td>44.0</td>\n",
       "    </tr>\n",
       "    <tr>\n",
       "      <th>1</th>\n",
       "      <td>../log-single-reverse1-h2</td>\n",
       "      <td>998.0</td>\n",
       "      <td>1501.740481</td>\n",
       "      <td>38.367617</td>\n",
       "      <td>1428.0</td>\n",
       "      <td>1475.0</td>\n",
       "      <td>1505.0</td>\n",
       "      <td>1530.0</td>\n",
       "      <td>1615.0</td>\n",
       "    </tr>\n",
       "    <tr>\n",
       "      <th>1</th>\n",
       "      <td>../log-single-reverse1-h3</td>\n",
       "      <td>992.0</td>\n",
       "      <td>1436.213710</td>\n",
       "      <td>2.837456</td>\n",
       "      <td>1428.0</td>\n",
       "      <td>1435.0</td>\n",
       "      <td>1437.0</td>\n",
       "      <td>1438.0</td>\n",
       "      <td>1444.0</td>\n",
       "    </tr>\n",
       "  </tbody>\n",
       "</table>\n",
       "</div>"
      ],
      "text/plain": [
       "                          実験  リクエスト数          平均値       標準偏差     最小値   第1四分数     中央値   第3四分数      最大\n",
       "1  ../log-simple-reverse1-h2   998.0    38.479960   1.855107    33.0    38.0    39.0    40.0    43.0\n",
       "1  ../log-simple-reverse1-h3   994.0    39.879276   1.935910    34.0    39.0    40.0    41.0    44.0\n",
       "1  ../log-single-reverse1-h2   998.0  1501.740481  38.367617  1428.0  1475.0  1505.0  1530.0  1615.0\n",
       "1  ../log-single-reverse1-h3   992.0  1436.213710   2.837456  1428.0  1435.0  1437.0  1438.0  1444.0"
      ]
     },
     "execution_count": 29,
     "metadata": {},
     "output_type": "execute_result"
    }
   ],
   "source": [
    "describe_filtered"
   ]
  },
  {
   "cell_type": "code",
   "execution_count": 30,
   "metadata": {},
   "outputs": [
    {
     "data": {
      "text/plain": [
       "(1400.0, 1600.0)"
      ]
     },
     "execution_count": 30,
     "metadata": {},
     "output_type": "execute_result"
    },
    {
     "data": {
      "image/png": "[encoded data removed]",
      "text/plain": [
       "<Figure size 500x600 with 2 Axes>"
      ]
     },
     "metadata": {},
     "output_type": "display_data"
    }
   ],
   "source": [
    "fig, axes = plt.subplots(nrows=2, ncols=1, figsize=(5, 6))\n",
    "plt.subplots_adjust(wspace=0.3, hspace=0.4)\n",
    "\n",
    "ploted = results[\n",
    "    [\n",
    "        \"../log-simple-reverse1-h2\",\n",
    "        \"../log-simple-reverse1-h3\",\n",
    "    ]\n",
    "].copy()\n",
    "ploted.columns = [\n",
    "    \"NGINX\\nHTTP/2\\n/simple.html\",\n",
    "    \"NGINX\\nHTTP/3\\n/simple.html\",\n",
    "]\n",
    "ploted = ploted.plot.box(ax=axes[0], showmeans=True, ylabel=\"通信時間(ms)\", whis=[0, 100])\n",
    "ploted.grid(which=\"major\", axis=\"y\")\n",
    "# ploted.set_yticks([0, 50, 100, 150])\n",
    "ploted.set_ylim(30, 50)\n",
    "\n",
    "ploted = results[\n",
    "    [\n",
    "        \"../log-single-reverse1-h2\",\n",
    "        \"../log-single-reverse1-h3\",\n",
    "    ]\n",
    "].copy()\n",
    "ploted.columns = [\n",
    "    \"NGINX\\nHTTP/2\\n/single.html\",\n",
    "    \"NGINX\\nHTTP/3\\n/single.html\",\n",
    "]\n",
    "ploted = ploted.plot.box(ax=axes[1], showmeans=True, ylabel=\"通信時間(ms)\", whis=[0, 100])\n",
    "ploted.grid(which=\"major\", axis=\"y\")\n",
    "# ploted.set_yticks([1400, 1500, 1600])\n",
    "ploted.set_ylim(1400, 1600)\n"
   ]
  },
  {
   "cell_type": "code",
   "execution_count": null,
   "metadata": {},
   "outputs": [],
   "source": []
  }
 ],
 "metadata": {
  "kernelspec": {
   "display_name": "shims",
   "language": "python",
   "name": "python3"
  },
  "language_info": {
   "codemirror_mode": {
    "name": "ipython",
    "version": 3
   },
   "file_extension": ".py",
   "mimetype": "text/x-python",
   "name": "python",
   "nbconvert_exporter": "python",
   "pygments_lexer": "ipython3",
   "version": "3.9.15"
  },
  "orig_nbformat": 4,
  "vscode": {
   "interpreter": {
    "hash": "a66e5b2b428b4b356d140666341c5d01c5029778eb4aa6280fd1d4aaca0d9922"
   }
  }
 },
 "nbformat": 4,
 "nbformat_minor": 2
}

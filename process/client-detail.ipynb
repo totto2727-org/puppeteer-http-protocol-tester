{
 "cells": [
  {
   "cell_type": "code",
   "execution_count": null,
   "metadata": {},
   "outputs": [],
   "source": [
    "import json\n",
    "\n",
    "h2_open = open(\"../log-simple-cloudflare\" + \"/h2-performances.json\", \"r\")\n",
    "h3_open = open(\"../log-simple-cloudflare\" + \"/h3-performances.json\", \"r\")\n",
    "\n",
    "h2_load = json.load(h2_open)\n",
    "h3_load = json.load(h3_open)\n",
    "\n",
    "h2_open.close()\n",
    "h3_open.close()\n",
    "\n"
   ]
  },
  {
   "cell_type": "code",
   "execution_count": null,
   "metadata": {},
   "outputs": [],
   "source": [
    "from itertools import chain\n",
    "\n",
    "\n",
    "h2_entrieses = [{\"number\": x[\"number\"], **x[\"entries\"][0]} for x in h2_load]\n",
    "h2_entries = entries = pd.DataFrame(chain(h2_entrieses))\n",
    "h3_entrieses = [{\"number\": x[\"number\"], **x[\"entries\"][0]} for x in h3_load]\n",
    "h3_entries = entries = pd.DataFrame(chain(h3_entrieses))\n",
    "\n",
    "difference = h3_entries.select_dtypes(include=float) / h2_entries.select_dtypes(\n",
    "    include=float\n",
    ")\n",
    "difference = difference.replace([np.inf, -np.inf], np.nan)\n",
    "difference = difference.dropna()\n",
    "difference.mean()"
   ]
  }
 ],
 "metadata": {
  "kernelspec": {
   "display_name": "Python 3",
   "language": "python",
   "name": "python3"
  },
  "language_info": {
   "name": "python",
   "version": "3.11.1 (main, Dec 23 2022, 09:28:24) [Clang 14.0.0 (clang-1400.0.29.202)]"
  },
  "orig_nbformat": 4,
  "vscode": {
   "interpreter": {
    "hash": "5c7b89af1651d0b8571dde13640ecdccf7d5a6204171d6ab33e7c296e100e08a"
   }
  }
 },
 "nbformat": 4,
 "nbformat_minor": 2
}

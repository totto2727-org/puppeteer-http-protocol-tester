{
 "cells": [
  {
   "cell_type": "code",
   "execution_count": 17,
   "metadata": {},
   "outputs": [],
   "source": [
    "import pandas as pd\n",
    "import matplotlib\n",
    "import matplotlib as mpl\n",
    "import matplotlib.pyplot as plt\n",
    "import matplotlib.font_manager\n",
    "\n",
    "font = {\"family\": \"YuGothic\"}\n",
    "matplotlib.rc(\"font\", **font)"
   ]
  },
  {
   "cell_type": "code",
   "execution_count": 18,
   "metadata": {},
   "outputs": [
    {
     "name": "stdout",
     "output_type": "stream",
     "text": [
      "1814 2258\n"
     ]
    },
    {
     "data": {
      "text/plain": [
       "Time         int64\n",
       "UID          int64\n",
       "PID          int64\n",
       "%usr       float64\n",
       "%system    float64\n",
       "%guest     float64\n",
       "%wait      float64\n",
       "%CPU       float64\n",
       "CPU          int64\n",
       "dtype: object"
      ]
     },
     "execution_count": 18,
     "metadata": {},
     "output_type": "execute_result"
    }
   ],
   "source": [
    "reverse60_single = pd.read_csv(\"../log-single-reverse60/nginx-minis2.csv\")\n",
    "reverse60_single = reverse60_single.select_dtypes(include=[\"int\", \"float\"])\n",
    "reverse60_single_h2_start = reverse60_single[\"Time\"].min() + 30\n",
    "reverse60_single_h2_end = 1675661949 - 30\n",
    "reverse60_single_h3_start = 1675662561 + 30\n",
    "reverse60_single_h3_end = reverse60_single[\"Time\"].max() - 30\n",
    "print(\n",
    "    reverse60_single_h2_end - reverse60_single_h2_start,\n",
    "    reverse60_single_h3_end - reverse60_single_h3_start,\n",
    ")\n",
    "reverse60_single.dtypes\n"
   ]
  },
  {
   "cell_type": "code",
   "execution_count": 19,
   "metadata": {},
   "outputs": [
    {
     "name": "stdout",
     "output_type": "stream",
     "text": [
      "1894 2266\n"
     ]
    },
    {
     "data": {
      "text/plain": [
       "Time         int64\n",
       "UID          int64\n",
       "PID          int64\n",
       "%usr       float64\n",
       "%system    float64\n",
       "%guest     float64\n",
       "%wait      float64\n",
       "%CPU       float64\n",
       "CPU          int64\n",
       "dtype: object"
      ]
     },
     "execution_count": 19,
     "metadata": {},
     "output_type": "execute_result"
    }
   ],
   "source": [
    "client60_single = pd.read_csv(\"../log-single-client60/nginx-minis2.csv\")\n",
    "client60_single = client60_single.select_dtypes(include=['int', 'float'])\n",
    "client60_single_h2_start = client60_single[\"Time\"].min() + 30\n",
    "client60_single_h2_end = 1675605220 - 30\n",
    "client60_single_h3_start = 1675605833 + 30\n",
    "client60_single_h3_end = client60_single[\"Time\"].max() -30\n",
    "print(\n",
    "    client60_single_h2_end - client60_single_h2_start,\n",
    "    client60_single_h3_end - client60_single_h3_start,\n",
    ")\n",
    "client60_single.dtypes"
   ]
  },
  {
   "cell_type": "code",
   "execution_count": 20,
   "metadata": {},
   "outputs": [
    {
     "name": "stdout",
     "output_type": "stream",
     "text": [
      "285 289\n"
     ]
    },
    {
     "data": {
      "text/plain": [
       "Time         int64\n",
       "UID          int64\n",
       "PID          int64\n",
       "%usr       float64\n",
       "%system    float64\n",
       "%guest     float64\n",
       "%wait      float64\n",
       "%CPU       float64\n",
       "CPU          int64\n",
       "dtype: object"
      ]
     },
     "execution_count": 20,
     "metadata": {},
     "output_type": "execute_result"
    }
   ],
   "source": [
    "reverse60_simple = pd.read_csv(\"../log-simple-reverse60/nginx-minis2.csv\")\n",
    "reverse60_simple = reverse60_simple.select_dtypes(include=[\"int\", \"float\"])\n",
    "reverse60_simple_h2_start = reverse60_simple[\"Time\"].min() + 30\n",
    "reverse60_simple_h2_end = 1675658358 - 30\n",
    "reverse60_simple_h3_start = 1675658963 + 30\n",
    "reverse60_simple_h3_end = reverse60_simple[\"Time\"].max() - 30\n",
    "print(\n",
    "    reverse60_simple_h2_end - reverse60_simple_h2_start,\n",
    "    reverse60_simple_h3_end - reverse60_simple_h3_start,\n",
    ")\n",
    "reverse60_simple.dtypes"
   ]
  },
  {
   "cell_type": "code",
   "execution_count": 21,
   "metadata": {},
   "outputs": [
    {
     "name": "stdout",
     "output_type": "stream",
     "text": [
      "284 290\n"
     ]
    },
    {
     "data": {
      "text/plain": [
       "Time         int64\n",
       "UID          int64\n",
       "PID          int64\n",
       "%usr       float64\n",
       "%system    float64\n",
       "%guest     float64\n",
       "%wait      float64\n",
       "%CPU       float64\n",
       "CPU          int64\n",
       "dtype: object"
      ]
     },
     "execution_count": 21,
     "metadata": {},
     "output_type": "execute_result"
    }
   ],
   "source": [
    "client60_simple = pd.read_csv(\"../log-simple-client60/nginx-minis2.csv\")\n",
    "client60_simple = client60_simple.select_dtypes(include=[\"int\", \"float\"])\n",
    "client60_simple_h2_start = client60_simple[\"Time\"].min() + 30\n",
    "client60_simple_h2_end = 1675601408 - 30\n",
    "client60_simple_h3_start = 1675602012 + 30\n",
    "client60_simple_h3_end = client60_simple[\"Time\"].max() - 30\n",
    "print(\n",
    "    client60_simple_h2_end - client60_simple_h2_start,\n",
    "    client60_simple_h3_end - client60_simple_h3_start,\n",
    ")\n",
    "client60_simple.dtypes\n"
   ]
  },
  {
   "cell_type": "code",
   "execution_count": 22,
   "metadata": {},
   "outputs": [],
   "source": [
    "def cpu_performance(df: pd.DataFrame, start: int, end: int):\n",
    "    df_groupby = df[(start <= df[\"Time\"]) & (df[\"Time\"] <= end)].groupby(\"Time\")\n",
    "    df_groupby = df_groupby.sum()\n",
    "    return df_groupby\n"
   ]
  },
  {
   "cell_type": "code",
   "execution_count": 23,
   "metadata": {},
   "outputs": [
    {
     "data": {
      "text/html": [
       "<div>\n",
       "<style scoped>\n",
       "    .dataframe tbody tr th:only-of-type {\n",
       "        vertical-align: middle;\n",
       "    }\n",
       "\n",
       "    .dataframe tbody tr th {\n",
       "        vertical-align: top;\n",
       "    }\n",
       "\n",
       "    .dataframe thead th {\n",
       "        text-align: right;\n",
       "    }\n",
       "</style>\n",
       "<table border=\"1\" class=\"dataframe\">\n",
       "  <thead>\n",
       "    <tr style=\"text-align: right;\">\n",
       "      <th></th>\n",
       "      <th>HTTP/2\\n/single.html\\n実験2</th>\n",
       "      <th>HTTP/3\\n/single.html\\n実験2</th>\n",
       "    </tr>\n",
       "  </thead>\n",
       "  <tbody>\n",
       "    <tr>\n",
       "      <th>0</th>\n",
       "      <td>10.0</td>\n",
       "      <td>61.0</td>\n",
       "    </tr>\n",
       "    <tr>\n",
       "      <th>1</th>\n",
       "      <td>31.0</td>\n",
       "      <td>53.0</td>\n",
       "    </tr>\n",
       "    <tr>\n",
       "      <th>2</th>\n",
       "      <td>8.0</td>\n",
       "      <td>59.0</td>\n",
       "    </tr>\n",
       "    <tr>\n",
       "      <th>3</th>\n",
       "      <td>14.0</td>\n",
       "      <td>58.0</td>\n",
       "    </tr>\n",
       "    <tr>\n",
       "      <th>4</th>\n",
       "      <td>18.0</td>\n",
       "      <td>68.0</td>\n",
       "    </tr>\n",
       "    <tr>\n",
       "      <th>...</th>\n",
       "      <td>...</td>\n",
       "      <td>...</td>\n",
       "    </tr>\n",
       "    <tr>\n",
       "      <th>1890</th>\n",
       "      <td>11.0</td>\n",
       "      <td>58.0</td>\n",
       "    </tr>\n",
       "    <tr>\n",
       "      <th>1891</th>\n",
       "      <td>13.0</td>\n",
       "      <td>54.0</td>\n",
       "    </tr>\n",
       "    <tr>\n",
       "      <th>1892</th>\n",
       "      <td>22.0</td>\n",
       "      <td>60.0</td>\n",
       "    </tr>\n",
       "    <tr>\n",
       "      <th>1893</th>\n",
       "      <td>17.0</td>\n",
       "      <td>55.0</td>\n",
       "    </tr>\n",
       "    <tr>\n",
       "      <th>1894</th>\n",
       "      <td>8.0</td>\n",
       "      <td>56.0</td>\n",
       "    </tr>\n",
       "  </tbody>\n",
       "</table>\n",
       "<p>1895 rows × 2 columns</p>\n",
       "</div>"
      ],
      "text/plain": [
       "      HTTP/2\\n/single.html\\n実験2  HTTP/3\\n/single.html\\n実験2\n",
       "0                          10.0                       61.0\n",
       "1                          31.0                       53.0\n",
       "2                           8.0                       59.0\n",
       "3                          14.0                       58.0\n",
       "4                          18.0                       68.0\n",
       "...                         ...                        ...\n",
       "1890                       11.0                       58.0\n",
       "1891                       13.0                       54.0\n",
       "1892                       22.0                       60.0\n",
       "1893                       17.0                       55.0\n",
       "1894                        8.0                       56.0\n",
       "\n",
       "[1895 rows x 2 columns]"
      ]
     },
     "execution_count": 23,
     "metadata": {},
     "output_type": "execute_result"
    }
   ],
   "source": [
    "client60_single_h2 = cpu_performance(client60_single, client60_single_h2_start, client60_single_h2_end)\n",
    "client60_des_single_h2 = client60_single_h2[[r\"%usr\", r\"%system\", r\"%CPU\"]].describe()\n",
    "client60_des_single_h2.to_csv(\"client60-server-single-h2.csv\")\n",
    "client60_single_h3 = cpu_performance(client60_single, client60_single_h3_start, client60_single_h3_end)\n",
    "client60_des_single_h3 = client60_single_h3[[r\"%usr\", r\"%system\", r\"%CPU\"]].describe()\n",
    "client60_des_single_h3.to_csv(\"client60-server-single-h3.csv\")\n",
    "client60_result_single = pd.DataFrame()\n",
    "client60_result_single[\"HTTP/2\\n/single.html\\n実験2\"] = client60_single_h2[r\"%CPU\"].reset_index(drop=True)\n",
    "client60_result_single[\"HTTP/3\\n/single.html\\n実験2\"] = client60_single_h3[r\"%CPU\"].reset_index(drop=True)\n",
    "client60_result_single.to_csv(\"client60-server-describe.csv\", index=False)\n",
    "client60_result_single"
   ]
  },
  {
   "cell_type": "code",
   "execution_count": 24,
   "metadata": {},
   "outputs": [
    {
     "data": {
      "text/html": [
       "<div>\n",
       "<style scoped>\n",
       "    .dataframe tbody tr th:only-of-type {\n",
       "        vertical-align: middle;\n",
       "    }\n",
       "\n",
       "    .dataframe tbody tr th {\n",
       "        vertical-align: top;\n",
       "    }\n",
       "\n",
       "    .dataframe thead th {\n",
       "        text-align: right;\n",
       "    }\n",
       "</style>\n",
       "<table border=\"1\" class=\"dataframe\">\n",
       "  <thead>\n",
       "    <tr style=\"text-align: right;\">\n",
       "      <th></th>\n",
       "      <th>HTTP/2\\n/single.html\\n実験3</th>\n",
       "      <th>HTTP/3\\n/single.html\\n実験3</th>\n",
       "    </tr>\n",
       "  </thead>\n",
       "  <tbody>\n",
       "    <tr>\n",
       "      <th>0</th>\n",
       "      <td>60.0</td>\n",
       "      <td>80.00</td>\n",
       "    </tr>\n",
       "    <tr>\n",
       "      <th>1</th>\n",
       "      <td>45.0</td>\n",
       "      <td>82.17</td>\n",
       "    </tr>\n",
       "    <tr>\n",
       "      <th>2</th>\n",
       "      <td>11.0</td>\n",
       "      <td>79.00</td>\n",
       "    </tr>\n",
       "    <tr>\n",
       "      <th>3</th>\n",
       "      <td>70.0</td>\n",
       "      <td>81.00</td>\n",
       "    </tr>\n",
       "    <tr>\n",
       "      <th>4</th>\n",
       "      <td>56.0</td>\n",
       "      <td>80.00</td>\n",
       "    </tr>\n",
       "    <tr>\n",
       "      <th>...</th>\n",
       "      <td>...</td>\n",
       "      <td>...</td>\n",
       "    </tr>\n",
       "    <tr>\n",
       "      <th>1810</th>\n",
       "      <td>35.0</td>\n",
       "      <td>79.00</td>\n",
       "    </tr>\n",
       "    <tr>\n",
       "      <th>1811</th>\n",
       "      <td>28.0</td>\n",
       "      <td>77.00</td>\n",
       "    </tr>\n",
       "    <tr>\n",
       "      <th>1812</th>\n",
       "      <td>52.0</td>\n",
       "      <td>81.00</td>\n",
       "    </tr>\n",
       "    <tr>\n",
       "      <th>1813</th>\n",
       "      <td>43.0</td>\n",
       "      <td>81.00</td>\n",
       "    </tr>\n",
       "    <tr>\n",
       "      <th>1814</th>\n",
       "      <td>27.0</td>\n",
       "      <td>82.00</td>\n",
       "    </tr>\n",
       "  </tbody>\n",
       "</table>\n",
       "<p>1815 rows × 2 columns</p>\n",
       "</div>"
      ],
      "text/plain": [
       "      HTTP/2\\n/single.html\\n実験3  HTTP/3\\n/single.html\\n実験3\n",
       "0                          60.0                      80.00\n",
       "1                          45.0                      82.17\n",
       "2                          11.0                      79.00\n",
       "3                          70.0                      81.00\n",
       "4                          56.0                      80.00\n",
       "...                         ...                        ...\n",
       "1810                       35.0                      79.00\n",
       "1811                       28.0                      77.00\n",
       "1812                       52.0                      81.00\n",
       "1813                       43.0                      81.00\n",
       "1814                       27.0                      82.00\n",
       "\n",
       "[1815 rows x 2 columns]"
      ]
     },
     "execution_count": 24,
     "metadata": {},
     "output_type": "execute_result"
    }
   ],
   "source": [
    "reverse60_single_h2 = cpu_performance(reverse60_single, reverse60_single_h2_start, reverse60_single_h2_end)\n",
    "reverse60_des_single_h2 = reverse60_single_h2[[r\"%usr\", r\"%system\", r\"%CPU\"]].describe()\n",
    "reverse60_des_single_h2.to_csv(\"reverse60-server-single-h2.csv\")\n",
    "reverse60_single_h3 = cpu_performance(reverse60_single, reverse60_single_h3_start, reverse60_single_h3_end)\n",
    "reverse60_des_single_h3 = reverse60_single_h3[[r\"%usr\", r\"%system\", r\"%CPU\"]].describe()\n",
    "reverse60_des_single_h3.to_csv(\"reverse60-server-single-h3.csv\")\n",
    "reverse60_result_single = pd.DataFrame()\n",
    "reverse60_result_single[\"HTTP/2\\n/single.html\\n実験3\"] = reverse60_single_h2[r\"%CPU\"].reset_index(drop=True)\n",
    "reverse60_result_single[\"HTTP/3\\n/single.html\\n実験3\"] = reverse60_single_h3[r\"%CPU\"].reset_index(drop=True)\n",
    "reverse60_result_single.to_csv(\"reverse60-server-describe.csv\", index=False)\n",
    "reverse60_result_single"
   ]
  },
  {
   "cell_type": "code",
   "execution_count": 25,
   "metadata": {},
   "outputs": [
    {
     "data": {
      "text/html": [
       "<div>\n",
       "<style scoped>\n",
       "    .dataframe tbody tr th:only-of-type {\n",
       "        vertical-align: middle;\n",
       "    }\n",
       "\n",
       "    .dataframe tbody tr th {\n",
       "        vertical-align: top;\n",
       "    }\n",
       "\n",
       "    .dataframe thead th {\n",
       "        text-align: right;\n",
       "    }\n",
       "</style>\n",
       "<table border=\"1\" class=\"dataframe\">\n",
       "  <thead>\n",
       "    <tr style=\"text-align: right;\">\n",
       "      <th></th>\n",
       "      <th>HTTP/2\\n/simple.html\\n実験2</th>\n",
       "      <th>HTTP/3\\n/simple.html\\n実験2</th>\n",
       "    </tr>\n",
       "  </thead>\n",
       "  <tbody>\n",
       "    <tr>\n",
       "      <th>0</th>\n",
       "      <td>34.0</td>\n",
       "      <td>36.0</td>\n",
       "    </tr>\n",
       "    <tr>\n",
       "      <th>1</th>\n",
       "      <td>35.0</td>\n",
       "      <td>32.0</td>\n",
       "    </tr>\n",
       "    <tr>\n",
       "      <th>2</th>\n",
       "      <td>34.0</td>\n",
       "      <td>35.0</td>\n",
       "    </tr>\n",
       "    <tr>\n",
       "      <th>3</th>\n",
       "      <td>32.0</td>\n",
       "      <td>39.0</td>\n",
       "    </tr>\n",
       "    <tr>\n",
       "      <th>4</th>\n",
       "      <td>31.0</td>\n",
       "      <td>37.0</td>\n",
       "    </tr>\n",
       "    <tr>\n",
       "      <th>...</th>\n",
       "      <td>...</td>\n",
       "      <td>...</td>\n",
       "    </tr>\n",
       "    <tr>\n",
       "      <th>280</th>\n",
       "      <td>31.0</td>\n",
       "      <td>39.0</td>\n",
       "    </tr>\n",
       "    <tr>\n",
       "      <th>281</th>\n",
       "      <td>34.0</td>\n",
       "      <td>33.0</td>\n",
       "    </tr>\n",
       "    <tr>\n",
       "      <th>282</th>\n",
       "      <td>32.0</td>\n",
       "      <td>33.0</td>\n",
       "    </tr>\n",
       "    <tr>\n",
       "      <th>283</th>\n",
       "      <td>34.0</td>\n",
       "      <td>40.0</td>\n",
       "    </tr>\n",
       "    <tr>\n",
       "      <th>284</th>\n",
       "      <td>29.0</td>\n",
       "      <td>33.0</td>\n",
       "    </tr>\n",
       "  </tbody>\n",
       "</table>\n",
       "<p>285 rows × 2 columns</p>\n",
       "</div>"
      ],
      "text/plain": [
       "     HTTP/2\\n/simple.html\\n実験2  HTTP/3\\n/simple.html\\n実験2\n",
       "0                         34.0                       36.0\n",
       "1                         35.0                       32.0\n",
       "2                         34.0                       35.0\n",
       "3                         32.0                       39.0\n",
       "4                         31.0                       37.0\n",
       "..                         ...                        ...\n",
       "280                       31.0                       39.0\n",
       "281                       34.0                       33.0\n",
       "282                       32.0                       33.0\n",
       "283                       34.0                       40.0\n",
       "284                       29.0                       33.0\n",
       "\n",
       "[285 rows x 2 columns]"
      ]
     },
     "execution_count": 25,
     "metadata": {},
     "output_type": "execute_result"
    }
   ],
   "source": [
    "client60_simple_h2 = cpu_performance(\n",
    "    client60_simple, client60_simple_h2_start, client60_simple_h2_end\n",
    ")\n",
    "client60_des_simple_h2 = client60_simple_h2[[r\"%usr\", r\"%system\", r\"%CPU\"]].describe()\n",
    "client60_des_simple_h2.to_csv(\"client60-server-simple-h2.csv\")\n",
    "client60_simple_h3 = cpu_performance(\n",
    "    client60_simple, client60_simple_h3_start, client60_simple_h3_end\n",
    ")\n",
    "client60_des_simple_h3 = client60_simple_h3[[r\"%usr\", r\"%system\", r\"%CPU\"]].describe()\n",
    "client60_des_simple_h3.to_csv(\"client60-server-simple-h3.csv\")\n",
    "client60_result_simple = pd.DataFrame()\n",
    "client60_result_simple[\"HTTP/2\\n/simple.html\\n実験2\"] = client60_simple_h2[\n",
    "    r\"%CPU\"\n",
    "].reset_index(drop=True)\n",
    "client60_result_simple[\"HTTP/3\\n/simple.html\\n実験2\"] = client60_simple_h3[\n",
    "    r\"%CPU\"\n",
    "].reset_index(drop=True)\n",
    "client60_result_simple.to_csv(\"client60-server-describe.csv\", index=False)\n",
    "client60_result_simple\n"
   ]
  },
  {
   "cell_type": "code",
   "execution_count": 26,
   "metadata": {},
   "outputs": [
    {
     "data": {
      "text/html": [
       "<div>\n",
       "<style scoped>\n",
       "    .dataframe tbody tr th:only-of-type {\n",
       "        vertical-align: middle;\n",
       "    }\n",
       "\n",
       "    .dataframe tbody tr th {\n",
       "        vertical-align: top;\n",
       "    }\n",
       "\n",
       "    .dataframe thead th {\n",
       "        text-align: right;\n",
       "    }\n",
       "</style>\n",
       "<table border=\"1\" class=\"dataframe\">\n",
       "  <thead>\n",
       "    <tr style=\"text-align: right;\">\n",
       "      <th></th>\n",
       "      <th>HTTP/2\\n/simple.html\\n実験3</th>\n",
       "      <th>HTTP/3\\n/simple.html\\n実験3</th>\n",
       "    </tr>\n",
       "  </thead>\n",
       "  <tbody>\n",
       "    <tr>\n",
       "      <th>0</th>\n",
       "      <td>34.0</td>\n",
       "      <td>36.0</td>\n",
       "    </tr>\n",
       "    <tr>\n",
       "      <th>1</th>\n",
       "      <td>34.0</td>\n",
       "      <td>36.0</td>\n",
       "    </tr>\n",
       "    <tr>\n",
       "      <th>2</th>\n",
       "      <td>32.0</td>\n",
       "      <td>38.0</td>\n",
       "    </tr>\n",
       "    <tr>\n",
       "      <th>3</th>\n",
       "      <td>34.0</td>\n",
       "      <td>39.0</td>\n",
       "    </tr>\n",
       "    <tr>\n",
       "      <th>4</th>\n",
       "      <td>34.0</td>\n",
       "      <td>37.0</td>\n",
       "    </tr>\n",
       "    <tr>\n",
       "      <th>...</th>\n",
       "      <td>...</td>\n",
       "      <td>...</td>\n",
       "    </tr>\n",
       "    <tr>\n",
       "      <th>281</th>\n",
       "      <td>34.0</td>\n",
       "      <td>37.0</td>\n",
       "    </tr>\n",
       "    <tr>\n",
       "      <th>282</th>\n",
       "      <td>34.0</td>\n",
       "      <td>35.0</td>\n",
       "    </tr>\n",
       "    <tr>\n",
       "      <th>283</th>\n",
       "      <td>33.0</td>\n",
       "      <td>36.0</td>\n",
       "    </tr>\n",
       "    <tr>\n",
       "      <th>284</th>\n",
       "      <td>34.0</td>\n",
       "      <td>41.0</td>\n",
       "    </tr>\n",
       "    <tr>\n",
       "      <th>285</th>\n",
       "      <td>36.0</td>\n",
       "      <td>37.0</td>\n",
       "    </tr>\n",
       "  </tbody>\n",
       "</table>\n",
       "<p>286 rows × 2 columns</p>\n",
       "</div>"
      ],
      "text/plain": [
       "     HTTP/2\\n/simple.html\\n実験3  HTTP/3\\n/simple.html\\n実験3\n",
       "0                         34.0                       36.0\n",
       "1                         34.0                       36.0\n",
       "2                         32.0                       38.0\n",
       "3                         34.0                       39.0\n",
       "4                         34.0                       37.0\n",
       "..                         ...                        ...\n",
       "281                       34.0                       37.0\n",
       "282                       34.0                       35.0\n",
       "283                       33.0                       36.0\n",
       "284                       34.0                       41.0\n",
       "285                       36.0                       37.0\n",
       "\n",
       "[286 rows x 2 columns]"
      ]
     },
     "execution_count": 26,
     "metadata": {},
     "output_type": "execute_result"
    }
   ],
   "source": [
    "reverse60_simple_h2 = cpu_performance(\n",
    "    reverse60_simple, reverse60_simple_h2_start, reverse60_simple_h2_end\n",
    ")\n",
    "reverse60_des_simple_h2 = reverse60_simple_h2[[r\"%usr\", r\"%system\", r\"%CPU\"]].describe()\n",
    "reverse60_des_simple_h2.to_csv(\"reverse60-server-simple-h2.csv\")\n",
    "reverse60_simple_h3 = cpu_performance(\n",
    "    reverse60_simple, reverse60_simple_h3_start, reverse60_simple_h3_end\n",
    ")\n",
    "reverse60_des_simple_h3 = reverse60_simple_h3[[r\"%usr\", r\"%system\", r\"%CPU\"]].describe()\n",
    "reverse60_des_simple_h3.to_csv(\"reverse60-server-simple-h3.csv\")\n",
    "reverse60_result_simple = pd.DataFrame()\n",
    "reverse60_result_simple[\"HTTP/2\\n/simple.html\\n実験3\"] = reverse60_simple_h2[\n",
    "    r\"%CPU\"\n",
    "].reset_index(drop=True)\n",
    "reverse60_result_simple[\"HTTP/3\\n/simple.html\\n実験3\"] = reverse60_simple_h3[\n",
    "    r\"%CPU\"\n",
    "].reset_index(drop=True)\n",
    "reverse60_result_simple.to_csv(\"reverse60-server-describe.csv\", index=False)\n",
    "reverse60_result_simple\n"
   ]
  },
  {
   "cell_type": "code",
   "execution_count": 27,
   "metadata": {},
   "outputs": [],
   "source": [
    "# fig, axes = plt.subplots(nrows=2, ncols=1, figsize=(5, 6))\n",
    "# plt.subplots_adjust(wspace=0.3, hspace=0.4)\n",
    "result = pd.concat(\n",
    "    [\n",
    "        client60_result_simple,\n",
    "        client60_result_single,\n",
    "    ],\n",
    "    axis=1,\n",
    ")\n"
   ]
  },
  {
   "cell_type": "code",
   "execution_count": 28,
   "metadata": {},
   "outputs": [
    {
     "data": {
      "image/png": "[encoded data removed]",
      "text/plain": [
       "<Figure size 700x800 with 2 Axes>"
      ]
     },
     "metadata": {},
     "output_type": "display_data"
    }
   ],
   "source": [
    "fig, axes = plt.subplots(nrows=2, ncols=1, figsize=(7, 8))\n",
    "plt.subplots_adjust(wspace=0.3, hspace=0.4)\n",
    "\n",
    "plot = result.plot.box(\n",
    "    ax=axes[0], showmeans=True, ylabel=\"CPU使用率(%)\", whis=[0, 100]\n",
    ")\n",
    "plot.set_ylim(0, 100)\n",
    "plot.grid(which=\"major\", axis=\"y\")\n",
    "\n",
    "result = pd.concat(\n",
    "    [\n",
    "        reverse60_result_simple,\n",
    "        reverse60_result_single,\n",
    "    ],\n",
    "    axis=1,\n",
    ")\n",
    "plot2 = result.plot.box(\n",
    "    ax=axes[1], showmeans=True, ylabel=\"CPU使用率(%)\", whis=[0, 100]\n",
    ")\n",
    "plot2.set_ylim(0, 100)\n",
    "plot2.grid(which=\"major\", axis=\"y\")\n"
   ]
  },
  {
   "cell_type": "code",
   "execution_count": 29,
   "metadata": {},
   "outputs": [],
   "source": [
    "from scipy.stats import f\n",
    "from scipy import stats\n",
    "import numpy as np\n",
    "\n",
    "\n",
    "def ftest(a, b):\n",
    "    # 　統計量Fの計算\n",
    "    v1 = np.var(a, ddof=1)\n",
    "    v2 = np.var(b, ddof=1)\n",
    "    n1 = len(a)\n",
    "    n2 = len(b)\n",
    "    f_value = v1 / v2\n",
    "\n",
    "    # 帰無仮説が正しい場合にFが従う確率分を生成\n",
    "    f_frozen = f.freeze(dfn=n1 - 1, dfd=n2 - 1)\n",
    "\n",
    "    # 右側\n",
    "    p1 = f_frozen.sf(f_value)\n",
    "    # 左側\n",
    "    p2 = f_frozen.cdf(f_value)\n",
    "    # 小さい方の2倍がp値\n",
    "    p_value = min(p1, p2) * 2\n",
    "\n",
    "    # 統計量Fとp値を返す\n",
    "    return f_value, p_value\n",
    "\n",
    "\n",
    "def t_test(a, b):\n",
    "    a = a.dropna()\n",
    "    b = b.dropna()\n",
    "    print(\n",
    "        a.mean(),\n",
    "        a.std(),\n",
    "        b.mean(),\n",
    "        b.std(),\n",
    "    )\n",
    "    f = ftest(\n",
    "        a,\n",
    "        b,\n",
    "    )\n",
    "    toubunsanse = (\n",
    "        ftest(\n",
    "            a,\n",
    "            b,\n",
    "        )[1]\n",
    "        > 0.0005\n",
    "    )\n",
    "    print(f\"{f=}\")\n",
    "    print(f\"{toubunsanse=}\")\n",
    "    print(\n",
    "        stats.shapiro(a)[1],\n",
    "        stats.shapiro(b)[1],\n",
    "    )\n",
    "    print(\n",
    "        stats.ttest_ind(\n",
    "            a,\n",
    "            b,\n",
    "            equal_var=toubunsanse,\n",
    "        )\n",
    "    )"
   ]
  },
  {
   "cell_type": "code",
   "execution_count": 30,
   "metadata": {},
   "outputs": [],
   "source": [
    "results = result\n"
   ]
  },
  {
   "cell_type": "code",
   "execution_count": 31,
   "metadata": {},
   "outputs": [
    {
     "ename": "KeyError",
     "evalue": "'HTTP/2\\n/simple.html'",
     "output_type": "error",
     "traceback": [
      "\u001b[0;31m---------------------------------------------------------------------------\u001b[0m",
      "\u001b[0;31mKeyError\u001b[0m                                  Traceback (most recent call last)",
      "File \u001b[0;32m~/.asdf/installs/python/anaconda3-2022.10/lib/python3.9/site-packages/pandas/core/indexes/base.py:3803\u001b[0m, in \u001b[0;36mIndex.get_loc\u001b[0;34m(self, key, method, tolerance)\u001b[0m\n\u001b[1;32m   3802\u001b[0m \u001b[39mtry\u001b[39;00m:\n\u001b[0;32m-> 3803\u001b[0m     \u001b[39mreturn\u001b[39;00m \u001b[39mself\u001b[39;49m\u001b[39m.\u001b[39;49m_engine\u001b[39m.\u001b[39;49mget_loc(casted_key)\n\u001b[1;32m   3804\u001b[0m \u001b[39mexcept\u001b[39;00m \u001b[39mKeyError\u001b[39;00m \u001b[39mas\u001b[39;00m err:\n",
      "File \u001b[0;32m~/.asdf/installs/python/anaconda3-2022.10/lib/python3.9/site-packages/pandas/_libs/index.pyx:138\u001b[0m, in \u001b[0;36mpandas._libs.index.IndexEngine.get_loc\u001b[0;34m()\u001b[0m\n",
      "File \u001b[0;32m~/.asdf/installs/python/anaconda3-2022.10/lib/python3.9/site-packages/pandas/_libs/index.pyx:165\u001b[0m, in \u001b[0;36mpandas._libs.index.IndexEngine.get_loc\u001b[0;34m()\u001b[0m\n",
      "File \u001b[0;32mpandas/_libs/hashtable_class_helper.pxi:5745\u001b[0m, in \u001b[0;36mpandas._libs.hashtable.PyObjectHashTable.get_item\u001b[0;34m()\u001b[0m\n",
      "File \u001b[0;32mpandas/_libs/hashtable_class_helper.pxi:5753\u001b[0m, in \u001b[0;36mpandas._libs.hashtable.PyObjectHashTable.get_item\u001b[0;34m()\u001b[0m\n",
      "\u001b[0;31mKeyError\u001b[0m: 'HTTP/2\\n/simple.html'",
      "\nThe above exception was the direct cause of the following exception:\n",
      "\u001b[0;31mKeyError\u001b[0m                                  Traceback (most recent call last)",
      "Cell \u001b[0;32mIn[31], line 2\u001b[0m\n\u001b[1;32m      1\u001b[0m t_test(\n\u001b[0;32m----> 2\u001b[0m     results[\u001b[39m\"\u001b[39;49m\u001b[39mHTTP/2\u001b[39;49m\u001b[39m\\n\u001b[39;49;00m\u001b[39m/simple.html\u001b[39;49m\u001b[39m\"\u001b[39;49m],\n\u001b[1;32m      3\u001b[0m     results[\u001b[39m\"\u001b[39m\u001b[39mHTTP/3\u001b[39m\u001b[39m\\n\u001b[39;00m\u001b[39m/simple.html\u001b[39m\u001b[39m\"\u001b[39m],\n\u001b[1;32m      4\u001b[0m )\n\u001b[1;32m      5\u001b[0m results[\u001b[39m\"\u001b[39m\u001b[39mHTTP/2\u001b[39m\u001b[39m\\n\u001b[39;00m\u001b[39m/simple.html\u001b[39m\u001b[39m\"\u001b[39m]\u001b[39m.\u001b[39mplot\u001b[39m.\u001b[39mhist()\n\u001b[1;32m      6\u001b[0m results[\u001b[39m\"\u001b[39m\u001b[39mHTTP/3\u001b[39m\u001b[39m\\n\u001b[39;00m\u001b[39m/simple.html\u001b[39m\u001b[39m\"\u001b[39m]\u001b[39m.\u001b[39mplot\u001b[39m.\u001b[39mhist()\n",
      "File \u001b[0;32m~/.asdf/installs/python/anaconda3-2022.10/lib/python3.9/site-packages/pandas/core/frame.py:3805\u001b[0m, in \u001b[0;36mDataFrame.__getitem__\u001b[0;34m(self, key)\u001b[0m\n\u001b[1;32m   3803\u001b[0m \u001b[39mif\u001b[39;00m \u001b[39mself\u001b[39m\u001b[39m.\u001b[39mcolumns\u001b[39m.\u001b[39mnlevels \u001b[39m>\u001b[39m \u001b[39m1\u001b[39m:\n\u001b[1;32m   3804\u001b[0m     \u001b[39mreturn\u001b[39;00m \u001b[39mself\u001b[39m\u001b[39m.\u001b[39m_getitem_multilevel(key)\n\u001b[0;32m-> 3805\u001b[0m indexer \u001b[39m=\u001b[39m \u001b[39mself\u001b[39;49m\u001b[39m.\u001b[39;49mcolumns\u001b[39m.\u001b[39;49mget_loc(key)\n\u001b[1;32m   3806\u001b[0m \u001b[39mif\u001b[39;00m is_integer(indexer):\n\u001b[1;32m   3807\u001b[0m     indexer \u001b[39m=\u001b[39m [indexer]\n",
      "File \u001b[0;32m~/.asdf/installs/python/anaconda3-2022.10/lib/python3.9/site-packages/pandas/core/indexes/base.py:3805\u001b[0m, in \u001b[0;36mIndex.get_loc\u001b[0;34m(self, key, method, tolerance)\u001b[0m\n\u001b[1;32m   3803\u001b[0m     \u001b[39mreturn\u001b[39;00m \u001b[39mself\u001b[39m\u001b[39m.\u001b[39m_engine\u001b[39m.\u001b[39mget_loc(casted_key)\n\u001b[1;32m   3804\u001b[0m \u001b[39mexcept\u001b[39;00m \u001b[39mKeyError\u001b[39;00m \u001b[39mas\u001b[39;00m err:\n\u001b[0;32m-> 3805\u001b[0m     \u001b[39mraise\u001b[39;00m \u001b[39mKeyError\u001b[39;00m(key) \u001b[39mfrom\u001b[39;00m \u001b[39merr\u001b[39;00m\n\u001b[1;32m   3806\u001b[0m \u001b[39mexcept\u001b[39;00m \u001b[39mTypeError\u001b[39;00m:\n\u001b[1;32m   3807\u001b[0m     \u001b[39m# If we have a listlike key, _check_indexing_error will raise\u001b[39;00m\n\u001b[1;32m   3808\u001b[0m     \u001b[39m#  InvalidIndexError. Otherwise we fall through and re-raise\u001b[39;00m\n\u001b[1;32m   3809\u001b[0m     \u001b[39m#  the TypeError.\u001b[39;00m\n\u001b[1;32m   3810\u001b[0m     \u001b[39mself\u001b[39m\u001b[39m.\u001b[39m_check_indexing_error(key)\n",
      "\u001b[0;31mKeyError\u001b[0m: 'HTTP/2\\n/simple.html'"
     ]
    }
   ],
   "source": [
    "t_test(\n",
    "    results[\"HTTP/2\\n/simple.html\"],\n",
    "    results[\"HTTP/3\\n/simple.html\"],\n",
    ")\n",
    "results[\"HTTP/2\\n/simple.html\"].plot.hist()\n",
    "results[\"HTTP/3\\n/simple.html\"].plot.hist()\n"
   ]
  },
  {
   "cell_type": "code",
   "execution_count": null,
   "metadata": {},
   "outputs": [
    {
     "name": "stdout",
     "output_type": "stream",
     "text": [
      "16.10930870712401 4.895462890639242 58.23661213720317 5.386695999975933\n",
      "f=(0.8259287659627641, 3.21289404900475e-05)\n",
      "toubunsanse=False\n",
      "2.763884390452609e-12 6.932284929336277e-15\n",
      "Ttest_indResult(statistic=-251.94392215058608, pvalue=0.0)\n"
     ]
    },
    {
     "data": {
      "text/plain": [
       "<AxesSubplot: ylabel='Frequency'>"
      ]
     },
     "execution_count": 53,
     "metadata": {},
     "output_type": "execute_result"
    },
    {
     "data": {
      "image/png": "[encoded data removed]",
      "text/plain": [
       "<Figure size 640x480 with 1 Axes>"
      ]
     },
     "metadata": {},
     "output_type": "display_data"
    }
   ],
   "source": [
    "t_test(\n",
    "    results[\"HTTP/2\\n/single.html\"],\n",
    "    results[\"HTTP/3\\n/single.html\"],\n",
    ")\n",
    "results[\"HTTP/2\\n/single.html\"].plot.hist()\n",
    "results[\"HTTP/3\\n/single.html\"].plot.hist()"
   ]
  }
 ],
 "metadata": {
  "kernelspec": {
   "display_name": "shims",
   "language": "python",
   "name": "python3"
  },
  "language_info": {
   "codemirror_mode": {
    "name": "ipython",
    "version": 3
   },
   "file_extension": ".py",
   "mimetype": "text/x-python",
   "name": "python",
   "nbconvert_exporter": "python",
   "pygments_lexer": "ipython3",
   "version": "3.9.16"
  },
  "orig_nbformat": 4,
  "vscode": {
   "interpreter": {
    "hash": "a66e5b2b428b4b356d140666341c5d01c5029778eb4aa6280fd1d4aaca0d9922"
   }
  }
 },
 "nbformat": 4,
 "nbformat_minor": 2
}

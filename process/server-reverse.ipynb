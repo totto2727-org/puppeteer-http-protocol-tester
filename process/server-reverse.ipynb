{
 "cells": [
  {
   "cell_type": "code",
   "execution_count": 51,
   "metadata": {},
   "outputs": [],
   "source": [
    "import pandas as pd\n",
    "import matplotlib\n",
    "import matplotlib as mpl\n",
    "import matplotlib.pyplot as plt\n",
    "import matplotlib.font_manager\n",
    "\n",
    "font = {\"family\": \"YuGothic\"}\n",
    "matplotlib.rc(\"font\", **font)"
   ]
  },
  {
   "cell_type": "code",
   "execution_count": 52,
   "metadata": {},
   "outputs": [
    {
     "data": {
      "text/plain": [
       "Time         int64\n",
       "UID          int64\n",
       "PID          int64\n",
       "%usr       float64\n",
       "%system    float64\n",
       "%guest     float64\n",
       "%wait      float64\n",
       "%CPU       float64\n",
       "CPU          int64\n",
       "dtype: object"
      ]
     },
     "execution_count": 52,
     "metadata": {},
     "output_type": "execute_result"
    }
   ],
   "source": [
    "client60_single = pd.read_csv(\"../log-single-reverse60/nginx-minis2.csv\")\n",
    "client60_single = client60_single.select_dtypes(include=['int', 'float'])\n",
    "client60_single_h2_start = client60_single[\"Time\"].min() + 30\n",
    "client60_single_h2_end = 1675661949 - 30\n",
    "client60_single_h3_start = 1675662561 + 30\n",
    "client60_single_h3_end = client60_single[\"Time\"].max() -30\n",
    "client60_single.dtypes"
   ]
  },
  {
   "cell_type": "code",
   "execution_count": 53,
   "metadata": {},
   "outputs": [
    {
     "data": {
      "text/plain": [
       "Time         int64\n",
       "UID          int64\n",
       "PID          int64\n",
       "%usr       float64\n",
       "%system    float64\n",
       "%guest     float64\n",
       "%wait      float64\n",
       "%CPU       float64\n",
       "CPU          int64\n",
       "dtype: object"
      ]
     },
     "execution_count": 53,
     "metadata": {},
     "output_type": "execute_result"
    }
   ],
   "source": [
    "client60_simple = pd.read_csv(\"../log-simple-reverse60/nginx-minis2.csv\")\n",
    "client60_simple = client60_simple.select_dtypes(include=[\"int\", \"float\"])\n",
    "client60_simple_h2_start = client60_simple[\"Time\"].min() + 30\n",
    "client60_simple_h2_end = 1675658358 - 30\n",
    "client60_simple_h3_start = 1675658963 + 30\n",
    "client60_simple_h3_end = client60_simple[\"Time\"].max() - 30\n",
    "client60_simple.dtypes\n"
   ]
  },
  {
   "cell_type": "code",
   "execution_count": 54,
   "metadata": {},
   "outputs": [],
   "source": [
    "def cpu_performance(df: pd.DataFrame, start: int, end: int):\n",
    "    df_groupby = df[(start <= df[\"Time\"]) & (df[\"Time\"] <= end)].groupby(\"Time\")\n",
    "    df_groupby = df_groupby.sum()\n",
    "    return df_groupby\n"
   ]
  },
  {
   "cell_type": "code",
   "execution_count": 55,
   "metadata": {},
   "outputs": [
    {
     "data": {
      "text/html": [
       "<div>\n",
       "<style scoped>\n",
       "    .dataframe tbody tr th:only-of-type {\n",
       "        vertical-align: middle;\n",
       "    }\n",
       "\n",
       "    .dataframe tbody tr th {\n",
       "        vertical-align: top;\n",
       "    }\n",
       "\n",
       "    .dataframe thead th {\n",
       "        text-align: right;\n",
       "    }\n",
       "</style>\n",
       "<table border=\"1\" class=\"dataframe\">\n",
       "  <thead>\n",
       "    <tr style=\"text-align: right;\">\n",
       "      <th></th>\n",
       "      <th>HTTP/2\\n/single.html</th>\n",
       "      <th>HTTP/3\\n/single.html</th>\n",
       "    </tr>\n",
       "  </thead>\n",
       "  <tbody>\n",
       "    <tr>\n",
       "      <th>0</th>\n",
       "      <td>60.0</td>\n",
       "      <td>80.00</td>\n",
       "    </tr>\n",
       "    <tr>\n",
       "      <th>1</th>\n",
       "      <td>45.0</td>\n",
       "      <td>82.17</td>\n",
       "    </tr>\n",
       "    <tr>\n",
       "      <th>2</th>\n",
       "      <td>11.0</td>\n",
       "      <td>79.00</td>\n",
       "    </tr>\n",
       "    <tr>\n",
       "      <th>3</th>\n",
       "      <td>70.0</td>\n",
       "      <td>81.00</td>\n",
       "    </tr>\n",
       "    <tr>\n",
       "      <th>4</th>\n",
       "      <td>56.0</td>\n",
       "      <td>80.00</td>\n",
       "    </tr>\n",
       "    <tr>\n",
       "      <th>...</th>\n",
       "      <td>...</td>\n",
       "      <td>...</td>\n",
       "    </tr>\n",
       "    <tr>\n",
       "      <th>1810</th>\n",
       "      <td>35.0</td>\n",
       "      <td>79.00</td>\n",
       "    </tr>\n",
       "    <tr>\n",
       "      <th>1811</th>\n",
       "      <td>28.0</td>\n",
       "      <td>77.00</td>\n",
       "    </tr>\n",
       "    <tr>\n",
       "      <th>1812</th>\n",
       "      <td>52.0</td>\n",
       "      <td>81.00</td>\n",
       "    </tr>\n",
       "    <tr>\n",
       "      <th>1813</th>\n",
       "      <td>43.0</td>\n",
       "      <td>81.00</td>\n",
       "    </tr>\n",
       "    <tr>\n",
       "      <th>1814</th>\n",
       "      <td>27.0</td>\n",
       "      <td>82.00</td>\n",
       "    </tr>\n",
       "  </tbody>\n",
       "</table>\n",
       "<p>1815 rows × 2 columns</p>\n",
       "</div>"
      ],
      "text/plain": [
       "      HTTP/2\\n/single.html  HTTP/3\\n/single.html\n",
       "0                     60.0                 80.00\n",
       "1                     45.0                 82.17\n",
       "2                     11.0                 79.00\n",
       "3                     70.0                 81.00\n",
       "4                     56.0                 80.00\n",
       "...                    ...                   ...\n",
       "1810                  35.0                 79.00\n",
       "1811                  28.0                 77.00\n",
       "1812                  52.0                 81.00\n",
       "1813                  43.0                 81.00\n",
       "1814                  27.0                 82.00\n",
       "\n",
       "[1815 rows x 2 columns]"
      ]
     },
     "execution_count": 55,
     "metadata": {},
     "output_type": "execute_result"
    }
   ],
   "source": [
    "client60_single_h2 = cpu_performance(client60_single, client60_single_h2_start, client60_single_h2_end)\n",
    "des_single_h2 = client60_single_h2[[r\"%usr\", r\"%system\", r\"%CPU\"]].describe()\n",
    "des_single_h2.to_csv(\"server-single-h2.csv\")\n",
    "client60_single_h3 = cpu_performance(client60_single, client60_single_h3_start, client60_single_h3_end)\n",
    "des_single_h3 = client60_single_h3[[r\"%usr\", r\"%system\", r\"%CPU\"]].describe()\n",
    "des_single_h3.to_csv(\"server-single-h3.csv\")\n",
    "result_single = pd.DataFrame()\n",
    "result_single[\"HTTP/2\\n/single.html\"] = client60_single_h2[r\"%CPU\"].reset_index(drop=True)\n",
    "result_single[\"HTTP/3\\n/single.html\"] = client60_single_h3[r\"%CPU\"].reset_index(drop=True)\n",
    "result_single.to_csv(\"server-describe.csv\", index=False)\n",
    "result_single"
   ]
  },
  {
   "cell_type": "code",
   "execution_count": 56,
   "metadata": {},
   "outputs": [
    {
     "data": {
      "text/html": [
       "<div>\n",
       "<style scoped>\n",
       "    .dataframe tbody tr th:only-of-type {\n",
       "        vertical-align: middle;\n",
       "    }\n",
       "\n",
       "    .dataframe tbody tr th {\n",
       "        vertical-align: top;\n",
       "    }\n",
       "\n",
       "    .dataframe thead th {\n",
       "        text-align: right;\n",
       "    }\n",
       "</style>\n",
       "<table border=\"1\" class=\"dataframe\">\n",
       "  <thead>\n",
       "    <tr style=\"text-align: right;\">\n",
       "      <th></th>\n",
       "      <th>HTTP/2\\n/simple.html</th>\n",
       "      <th>HTTP/3\\n/simple.html</th>\n",
       "    </tr>\n",
       "  </thead>\n",
       "  <tbody>\n",
       "    <tr>\n",
       "      <th>0</th>\n",
       "      <td>34.0</td>\n",
       "      <td>36.0</td>\n",
       "    </tr>\n",
       "    <tr>\n",
       "      <th>1</th>\n",
       "      <td>34.0</td>\n",
       "      <td>36.0</td>\n",
       "    </tr>\n",
       "    <tr>\n",
       "      <th>2</th>\n",
       "      <td>32.0</td>\n",
       "      <td>38.0</td>\n",
       "    </tr>\n",
       "    <tr>\n",
       "      <th>3</th>\n",
       "      <td>34.0</td>\n",
       "      <td>39.0</td>\n",
       "    </tr>\n",
       "    <tr>\n",
       "      <th>4</th>\n",
       "      <td>34.0</td>\n",
       "      <td>37.0</td>\n",
       "    </tr>\n",
       "    <tr>\n",
       "      <th>...</th>\n",
       "      <td>...</td>\n",
       "      <td>...</td>\n",
       "    </tr>\n",
       "    <tr>\n",
       "      <th>281</th>\n",
       "      <td>34.0</td>\n",
       "      <td>37.0</td>\n",
       "    </tr>\n",
       "    <tr>\n",
       "      <th>282</th>\n",
       "      <td>34.0</td>\n",
       "      <td>35.0</td>\n",
       "    </tr>\n",
       "    <tr>\n",
       "      <th>283</th>\n",
       "      <td>33.0</td>\n",
       "      <td>36.0</td>\n",
       "    </tr>\n",
       "    <tr>\n",
       "      <th>284</th>\n",
       "      <td>34.0</td>\n",
       "      <td>41.0</td>\n",
       "    </tr>\n",
       "    <tr>\n",
       "      <th>285</th>\n",
       "      <td>36.0</td>\n",
       "      <td>37.0</td>\n",
       "    </tr>\n",
       "  </tbody>\n",
       "</table>\n",
       "<p>286 rows × 2 columns</p>\n",
       "</div>"
      ],
      "text/plain": [
       "     HTTP/2\\n/simple.html  HTTP/3\\n/simple.html\n",
       "0                    34.0                  36.0\n",
       "1                    34.0                  36.0\n",
       "2                    32.0                  38.0\n",
       "3                    34.0                  39.0\n",
       "4                    34.0                  37.0\n",
       "..                    ...                   ...\n",
       "281                  34.0                  37.0\n",
       "282                  34.0                  35.0\n",
       "283                  33.0                  36.0\n",
       "284                  34.0                  41.0\n",
       "285                  36.0                  37.0\n",
       "\n",
       "[286 rows x 2 columns]"
      ]
     },
     "execution_count": 56,
     "metadata": {},
     "output_type": "execute_result"
    }
   ],
   "source": [
    "client60_simple_h2 = cpu_performance(client60_simple, client60_simple_h2_start, client60_simple_h2_end)\n",
    "des_simple_h2 = client60_simple_h2[[r\"%usr\", r\"%system\", r\"%CPU\"]].describe()\n",
    "des_simple_h2.to_csv(\"server-simple-h2.csv\")\n",
    "client60_simple_h3 = cpu_performance(client60_simple, client60_simple_h3_start, client60_simple_h3_end)\n",
    "des_simple_h3 = client60_simple_h3[[r\"%usr\", r\"%system\", r\"%CPU\"]].describe()\n",
    "des_simple_h3.to_csv(\"server-simple-h3.csv\")\n",
    "result_simple = pd.DataFrame()\n",
    "result_simple[\"HTTP/2\\n/simple.html\"] = client60_simple_h2[r\"%CPU\"].reset_index(drop=True)\n",
    "result_simple[\"HTTP/3\\n/simple.html\"] = client60_simple_h3[r\"%CPU\"].reset_index(drop=True)\n",
    "result_simple.to_csv(\"server-describe.csv\", index=False)\n",
    "result_simple\n"
   ]
  },
  {
   "cell_type": "code",
   "execution_count": 57,
   "metadata": {},
   "outputs": [],
   "source": [
    "# fig, axes = plt.subplots(nrows=2, ncols=1, figsize=(5, 6))\n",
    "# plt.subplots_adjust(wspace=0.3, hspace=0.4)\n",
    "result = pd.concat([result_simple, result_single], axis=1)\n"
   ]
  },
  {
   "cell_type": "code",
   "execution_count": 58,
   "metadata": {},
   "outputs": [
    {
     "data": {
      "image/png": "[encoded data removed]",
      "text/plain": [
       "<Figure size 500x300 with 1 Axes>"
      ]
     },
     "metadata": {},
     "output_type": "display_data"
    }
   ],
   "source": [
    "plot = result.plot.box(\n",
    "    showmeans=True, ylabel=\"CPU使用率(%)\", figsize=(5, 3), whis=[0, 100]\n",
    ")\n",
    "plot.set_ylim(0)\n",
    "plot.grid(which=\"major\", axis=\"y\")\n"
   ]
  },
  {
   "cell_type": "code",
   "execution_count": null,
   "metadata": {},
   "outputs": [],
   "source": []
  }
 ],
 "metadata": {
  "kernelspec": {
   "display_name": "shims",
   "language": "python",
   "name": "python3"
  },
  "language_info": {
   "codemirror_mode": {
    "name": "ipython",
    "version": 3
   },
   "file_extension": ".py",
   "mimetype": "text/x-python",
   "name": "python",
   "nbconvert_exporter": "python",
   "pygments_lexer": "ipython3",
   "version": "3.9.15"
  },
  "orig_nbformat": 4,
  "vscode": {
   "interpreter": {
    "hash": "a66e5b2b428b4b356d140666341c5d01c5029778eb4aa6280fd1d4aaca0d9922"
   }
  }
 },
 "nbformat": 4,
 "nbformat_minor": 2
}
